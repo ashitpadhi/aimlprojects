{
 "cells": [
  {
   "cell_type": "markdown",
   "metadata": {},
   "source": [
    "## Problem Statement\n",
    "Build a recommendation system for products on an e-commerce website like Amazon\n",
    "\n",
    "Amazon currently uses item-to-item collaborative filtering, which scales to massive data sets and produces high-quality recommendations in real time. This type of filtering matches each of the user's purchased and rated items to similar items, then combines those similar items into a recommendation list for the user.\n",
    "\n",
    "In this project we are going to build recommendation model for the electronics products of Amazon.\n",
    "\n",
    "#### Source\n",
    "Amazon Reviews data (http://jmcauley.ucsd.edu/data/amazon/)  The repository has several datasets. For this case study, we are using the Electronics dataset.\n",
    "\n",
    "#### Dataset columns\n",
    "first three columns are userId, productId, and ratings and the fourth column is timestamp. You can discard the timestamp column as in this case you may not need to use it.\n",
    "\n",
    "\n",
    "#### Steps\n",
    "1.\tRead and explore the given dataset.  ( Rename column/add headers, plot histograms, find data characteristics)\n",
    "2.\tTake a subset of the dataset to make it less sparse/ denser. ( For example, keep the users only who has given 50 or more number of ratings )\n",
    "3.\tSplit the data randomly into train and test dataset. ( For example, split it in 70/30 ratio)\n",
    "4.\tBuild Popularity Recommender model.\n",
    "5.\tBuild Collaborative Filtering model.\n",
    "6.\tEvaluate both the models. ( Once the model is trained on the training data, it can be used to compute the error (RMSE) on predictions made on the test data.)\n",
    "7.\tGet top - K ( K = 5) recommendations. Since our goal is to recommend new products to each user based on his/her habits, we will recommend 5 new products.\n",
    "8.\tSummarise your insights.\n"
   ]
  },
  {
   "cell_type": "code",
   "execution_count": 1,
   "metadata": {},
   "outputs": [],
   "source": [
    "# Import required libraries\n",
    "\n",
    "import pandas as pd\n",
    "import numpy as np\n",
    "import matplotlib.pyplot as plt\n",
    "import seaborn as sns\n",
    "%matplotlib inline\n",
    "\n",
    "from sklearn.model_selection import train_test_split"
   ]
  },
  {
   "cell_type": "code",
   "execution_count": 2,
   "metadata": {},
   "outputs": [],
   "source": [
    "# Import interactive shell to run and display multiple code in a single cell\n",
    "\n",
    "from IPython.core.interactiveshell import InteractiveShell\n",
    "InteractiveShell.ast_node_interactivity = 'all'"
   ]
  },
  {
   "cell_type": "code",
   "execution_count": 3,
   "metadata": {},
   "outputs": [],
   "source": [
    "# Import Surprise package and Sigular value decomposition package\n",
    "\n",
    "from scipy.sparse.linalg import svds\n",
    "from surprise import Dataset, Reader"
   ]
  },
  {
   "cell_type": "code",
   "execution_count": 4,
   "metadata": {},
   "outputs": [],
   "source": [
    "# Import dataset\n",
    "col = ['userid','productid','ratings','timestamp']\n",
    "\n",
    "df = pd.read_csv('ratings_Electronics.csv', names=col)"
   ]
  },
  {
   "cell_type": "code",
   "execution_count": 5,
   "metadata": {},
   "outputs": [
    {
     "data": {
      "text/html": [
       "<div>\n",
       "<style scoped>\n",
       "    .dataframe tbody tr th:only-of-type {\n",
       "        vertical-align: middle;\n",
       "    }\n",
       "\n",
       "    .dataframe tbody tr th {\n",
       "        vertical-align: top;\n",
       "    }\n",
       "\n",
       "    .dataframe thead th {\n",
       "        text-align: right;\n",
       "    }\n",
       "</style>\n",
       "<table border=\"1\" class=\"dataframe\">\n",
       "  <thead>\n",
       "    <tr style=\"text-align: right;\">\n",
       "      <th></th>\n",
       "      <th>userid</th>\n",
       "      <th>productid</th>\n",
       "      <th>ratings</th>\n",
       "      <th>timestamp</th>\n",
       "    </tr>\n",
       "  </thead>\n",
       "  <tbody>\n",
       "    <tr>\n",
       "      <th>0</th>\n",
       "      <td>AKM1MP6P0OYPR</td>\n",
       "      <td>0132793040</td>\n",
       "      <td>5.0</td>\n",
       "      <td>1365811200</td>\n",
       "    </tr>\n",
       "    <tr>\n",
       "      <th>1</th>\n",
       "      <td>A2CX7LUOHB2NDG</td>\n",
       "      <td>0321732944</td>\n",
       "      <td>5.0</td>\n",
       "      <td>1341100800</td>\n",
       "    </tr>\n",
       "    <tr>\n",
       "      <th>2</th>\n",
       "      <td>A2NWSAGRHCP8N5</td>\n",
       "      <td>0439886341</td>\n",
       "      <td>1.0</td>\n",
       "      <td>1367193600</td>\n",
       "    </tr>\n",
       "    <tr>\n",
       "      <th>3</th>\n",
       "      <td>A2WNBOD3WNDNKT</td>\n",
       "      <td>0439886341</td>\n",
       "      <td>3.0</td>\n",
       "      <td>1374451200</td>\n",
       "    </tr>\n",
       "    <tr>\n",
       "      <th>4</th>\n",
       "      <td>A1GI0U4ZRJA8WN</td>\n",
       "      <td>0439886341</td>\n",
       "      <td>1.0</td>\n",
       "      <td>1334707200</td>\n",
       "    </tr>\n",
       "  </tbody>\n",
       "</table>\n",
       "</div>"
      ],
      "text/plain": [
       "           userid   productid  ratings   timestamp\n",
       "0   AKM1MP6P0OYPR  0132793040      5.0  1365811200\n",
       "1  A2CX7LUOHB2NDG  0321732944      5.0  1341100800\n",
       "2  A2NWSAGRHCP8N5  0439886341      1.0  1367193600\n",
       "3  A2WNBOD3WNDNKT  0439886341      3.0  1374451200\n",
       "4  A1GI0U4ZRJA8WN  0439886341      1.0  1334707200"
      ]
     },
     "execution_count": 5,
     "metadata": {},
     "output_type": "execute_result"
    }
   ],
   "source": [
    "df.head()"
   ]
  },
  {
   "cell_type": "code",
   "execution_count": 6,
   "metadata": {},
   "outputs": [
    {
     "data": {
      "text/plain": [
       "(7824482, 4)"
      ]
     },
     "execution_count": 6,
     "metadata": {},
     "output_type": "execute_result"
    }
   ],
   "source": [
    "# checking how many rows and columns present in the dataset\n",
    "df.shape"
   ]
  },
  {
   "cell_type": "code",
   "execution_count": 7,
   "metadata": {},
   "outputs": [
    {
     "name": "stdout",
     "output_type": "stream",
     "text": [
      "<class 'pandas.core.frame.DataFrame'>\n",
      "RangeIndex: 7824482 entries, 0 to 7824481\n",
      "Data columns (total 4 columns):\n",
      "userid       object\n",
      "productid    object\n",
      "ratings      float64\n",
      "timestamp    int64\n",
      "dtypes: float64(1), int64(1), object(2)\n",
      "memory usage: 238.8+ MB\n"
     ]
    }
   ],
   "source": [
    "df.info()"
   ]
  },
  {
   "cell_type": "code",
   "execution_count": 8,
   "metadata": {},
   "outputs": [
    {
     "data": {
      "text/plain": [
       "userid       0\n",
       "productid    0\n",
       "ratings      0\n",
       "timestamp    0\n",
       "dtype: int64"
      ]
     },
     "execution_count": 8,
     "metadata": {},
     "output_type": "execute_result"
    }
   ],
   "source": [
    "# checking for nulls\n",
    "df.isnull().sum()\n",
    "\n",
    "# no null records in the dataset"
   ]
  },
  {
   "cell_type": "code",
   "execution_count": 9,
   "metadata": {},
   "outputs": [
    {
     "name": "stdout",
     "output_type": "stream",
     "text": [
      "Total unique UserID present in the dataset: 4201696\n"
     ]
    }
   ],
   "source": [
    "print('Total unique UserID present in the dataset: {}'.format(df['userid'].nunique()))"
   ]
  },
  {
   "cell_type": "code",
   "execution_count": 10,
   "metadata": {},
   "outputs": [
    {
     "name": "stdout",
     "output_type": "stream",
     "text": [
      "Total unique ProductID present in the dataset: 476002\n"
     ]
    }
   ],
   "source": [
    "print('Total unique ProductID present in the dataset: {}'.format(df['productid'].nunique()))"
   ]
  },
  {
   "cell_type": "code",
   "execution_count": 11,
   "metadata": {},
   "outputs": [
    {
     "data": {
      "text/plain": [
       "Text(0.5,1,'No. of Ratings')"
      ]
     },
     "execution_count": 11,
     "metadata": {},
     "output_type": "execute_result"
    },
    {
     "data": {
      "text/plain": [
       "<matplotlib.axes._subplots.AxesSubplot at 0x250000d0160>"
      ]
     },
     "execution_count": 11,
     "metadata": {},
     "output_type": "execute_result"
    },
    {
     "data": {
      "image/png": "[encoded data removed]",
      "text/plain": [
       "<Figure size 432x288 with 1 Axes>"
      ]
     },
     "metadata": {
      "needs_background": "light"
     },
     "output_type": "display_data"
    }
   ],
   "source": [
    "plt.title('No. of Ratings')\n",
    "sns.countplot(df['ratings'])\n",
    "\n",
    "# There are only 5 distinct ratings values. So no point of checking it in distribution plot"
   ]
  },
  {
   "cell_type": "code",
   "execution_count": 12,
   "metadata": {},
   "outputs": [],
   "source": [
    "# dropping timestamp column, as it is not required for the analysis\n",
    "df.drop(columns='timestamp', axis=1, inplace=True)"
   ]
  },
  {
   "cell_type": "code",
   "execution_count": 13,
   "metadata": {},
   "outputs": [
    {
     "data": {
      "text/html": [
       "<div>\n",
       "<style scoped>\n",
       "    .dataframe tbody tr th:only-of-type {\n",
       "        vertical-align: middle;\n",
       "    }\n",
       "\n",
       "    .dataframe tbody tr th {\n",
       "        vertical-align: top;\n",
       "    }\n",
       "\n",
       "    .dataframe thead th {\n",
       "        text-align: right;\n",
       "    }\n",
       "</style>\n",
       "<table border=\"1\" class=\"dataframe\">\n",
       "  <thead>\n",
       "    <tr style=\"text-align: right;\">\n",
       "      <th></th>\n",
       "      <th>userid</th>\n",
       "      <th>productid</th>\n",
       "      <th>ratings</th>\n",
       "    </tr>\n",
       "  </thead>\n",
       "  <tbody>\n",
       "    <tr>\n",
       "      <th>0</th>\n",
       "      <td>AKM1MP6P0OYPR</td>\n",
       "      <td>0132793040</td>\n",
       "      <td>5.0</td>\n",
       "    </tr>\n",
       "    <tr>\n",
       "      <th>1</th>\n",
       "      <td>A2CX7LUOHB2NDG</td>\n",
       "      <td>0321732944</td>\n",
       "      <td>5.0</td>\n",
       "    </tr>\n",
       "    <tr>\n",
       "      <th>2</th>\n",
       "      <td>A2NWSAGRHCP8N5</td>\n",
       "      <td>0439886341</td>\n",
       "      <td>1.0</td>\n",
       "    </tr>\n",
       "    <tr>\n",
       "      <th>3</th>\n",
       "      <td>A2WNBOD3WNDNKT</td>\n",
       "      <td>0439886341</td>\n",
       "      <td>3.0</td>\n",
       "    </tr>\n",
       "    <tr>\n",
       "      <th>4</th>\n",
       "      <td>A1GI0U4ZRJA8WN</td>\n",
       "      <td>0439886341</td>\n",
       "      <td>1.0</td>\n",
       "    </tr>\n",
       "  </tbody>\n",
       "</table>\n",
       "</div>"
      ],
      "text/plain": [
       "           userid   productid  ratings\n",
       "0   AKM1MP6P0OYPR  0132793040      5.0\n",
       "1  A2CX7LUOHB2NDG  0321732944      5.0\n",
       "2  A2NWSAGRHCP8N5  0439886341      1.0\n",
       "3  A2WNBOD3WNDNKT  0439886341      3.0\n",
       "4  A1GI0U4ZRJA8WN  0439886341      1.0"
      ]
     },
     "execution_count": 13,
     "metadata": {},
     "output_type": "execute_result"
    }
   ],
   "source": [
    "df.head()"
   ]
  },
  {
   "cell_type": "code",
   "execution_count": 14,
   "metadata": {},
   "outputs": [
    {
     "data": {
      "text/plain": [
       "count    7.824482e+06\n",
       "mean     4.012337e+00\n",
       "std      1.380910e+00\n",
       "min      1.000000e+00\n",
       "25%      3.000000e+00\n",
       "50%      5.000000e+00\n",
       "75%      5.000000e+00\n",
       "max      5.000000e+00\n",
       "Name: ratings, dtype: float64"
      ]
     },
     "execution_count": 14,
     "metadata": {},
     "output_type": "execute_result"
    }
   ],
   "source": [
    "df['ratings'].describe()"
   ]
  },
  {
   "cell_type": "code",
   "execution_count": 15,
   "metadata": {},
   "outputs": [
    {
     "data": {
      "text/plain": [
       "A5JLAU2ARJ0BO     520\n",
       "ADLVFFE4VBT8      501\n",
       "A3OXHLG6DIBRW8    498\n",
       "A6FIAB28IS79      431\n",
       "A680RUE1FDO8B     406\n",
       "A1ODOGXEYECQQ8    380\n",
       "A36K2N527TXXJN    314\n",
       "A2AY4YUOX2N1BQ    311\n",
       "AWPODHOB4GFWL     308\n",
       "A25C2M3QF9G7OQ    296\n",
       "Name: userid, dtype: int64"
      ]
     },
     "execution_count": 15,
     "metadata": {},
     "output_type": "execute_result"
    }
   ],
   "source": [
    "# Showing top 10 users rated highest Products\n",
    "df['userid'].value_counts().head(10)"
   ]
  },
  {
   "cell_type": "code",
   "execution_count": 16,
   "metadata": {},
   "outputs": [
    {
     "data": {
      "text/plain": [
       "userid\n",
       "A5JLAU2ARJ0BO     520\n",
       "ADLVFFE4VBT8      501\n",
       "A3OXHLG6DIBRW8    498\n",
       "A6FIAB28IS79      431\n",
       "A680RUE1FDO8B     406\n",
       "A1ODOGXEYECQQ8    380\n",
       "A36K2N527TXXJN    314\n",
       "A2AY4YUOX2N1BQ    311\n",
       "AWPODHOB4GFWL     308\n",
       "A25C2M3QF9G7OQ    296\n",
       "dtype: int64"
      ]
     },
     "execution_count": 16,
     "metadata": {},
     "output_type": "execute_result"
    }
   ],
   "source": [
    "# Same as above in a different way; tried for practice\n",
    "df.groupby('userid').size().sort_values(ascending=False)[:10]"
   ]
  },
  {
   "cell_type": "code",
   "execution_count": 17,
   "metadata": {},
   "outputs": [],
   "source": [
    "# _s for subset of original data\n",
    "\n",
    "# taking subset of data with only users rated for more than or equal to 50 Products\n",
    "\n",
    "user_count = df['userid'].value_counts()\n",
    "df_s = df[df['userid'].isin(user_count[user_count >= 50].index)]\n",
    "\n",
    "# df_s = df.loc[user_count.values >= 50].index"
   ]
  },
  {
   "cell_type": "code",
   "execution_count": 18,
   "metadata": {},
   "outputs": [
    {
     "data": {
      "text/html": [
       "<div>\n",
       "<style scoped>\n",
       "    .dataframe tbody tr th:only-of-type {\n",
       "        vertical-align: middle;\n",
       "    }\n",
       "\n",
       "    .dataframe tbody tr th {\n",
       "        vertical-align: top;\n",
       "    }\n",
       "\n",
       "    .dataframe thead th {\n",
       "        text-align: right;\n",
       "    }\n",
       "</style>\n",
       "<table border=\"1\" class=\"dataframe\">\n",
       "  <thead>\n",
       "    <tr style=\"text-align: right;\">\n",
       "      <th></th>\n",
       "      <th>userid</th>\n",
       "      <th>productid</th>\n",
       "      <th>ratings</th>\n",
       "    </tr>\n",
       "  </thead>\n",
       "  <tbody>\n",
       "    <tr>\n",
       "      <th>94</th>\n",
       "      <td>A3BY5KCNQZXV5U</td>\n",
       "      <td>0594451647</td>\n",
       "      <td>5.0</td>\n",
       "    </tr>\n",
       "    <tr>\n",
       "      <th>118</th>\n",
       "      <td>AT09WGFUM934H</td>\n",
       "      <td>0594481813</td>\n",
       "      <td>3.0</td>\n",
       "    </tr>\n",
       "    <tr>\n",
       "      <th>177</th>\n",
       "      <td>A32HSNCNPRUMTR</td>\n",
       "      <td>0970407998</td>\n",
       "      <td>1.0</td>\n",
       "    </tr>\n",
       "    <tr>\n",
       "      <th>178</th>\n",
       "      <td>A17HMM1M7T9PJ1</td>\n",
       "      <td>0970407998</td>\n",
       "      <td>4.0</td>\n",
       "    </tr>\n",
       "    <tr>\n",
       "      <th>492</th>\n",
       "      <td>A3CLWR1UUZT6TG</td>\n",
       "      <td>0972683275</td>\n",
       "      <td>5.0</td>\n",
       "    </tr>\n",
       "  </tbody>\n",
       "</table>\n",
       "</div>"
      ],
      "text/plain": [
       "             userid   productid  ratings\n",
       "94   A3BY5KCNQZXV5U  0594451647      5.0\n",
       "118   AT09WGFUM934H  0594481813      3.0\n",
       "177  A32HSNCNPRUMTR  0970407998      1.0\n",
       "178  A17HMM1M7T9PJ1  0970407998      4.0\n",
       "492  A3CLWR1UUZT6TG  0972683275      5.0"
      ]
     },
     "execution_count": 18,
     "metadata": {},
     "output_type": "execute_result"
    }
   ],
   "source": [
    "df_s.head()"
   ]
  },
  {
   "cell_type": "code",
   "execution_count": 19,
   "metadata": {},
   "outputs": [
    {
     "data": {
      "text/plain": [
       "(125871, 3)"
      ]
     },
     "execution_count": 19,
     "metadata": {},
     "output_type": "execute_result"
    }
   ],
   "source": [
    "df_s.shape"
   ]
  },
  {
   "cell_type": "code",
   "execution_count": 20,
   "metadata": {},
   "outputs": [
    {
     "name": "stdout",
     "output_type": "stream",
     "text": [
      "Total unique users in the subset dataset: 1540\n"
     ]
    }
   ],
   "source": [
    "print('Total unique users in the subset dataset: {}'.format(df_s['userid'].nunique()))\n",
    "\n",
    "# whereas in original dataset, the number of user was 4201696"
   ]
  },
  {
   "cell_type": "code",
   "execution_count": 21,
   "metadata": {},
   "outputs": [
    {
     "name": "stdout",
     "output_type": "stream",
     "text": [
      "Total unique products in the subset dataset: 48190\n"
     ]
    }
   ],
   "source": [
    "print('Total unique products in the subset dataset: {}'.format(df_s['productid'].nunique()))\n",
    "\n",
    "# It was 476002 in original dataset"
   ]
  },
  {
   "cell_type": "code",
   "execution_count": 22,
   "metadata": {},
   "outputs": [
    {
     "name": "stdout",
     "output_type": "stream",
     "text": [
      "Number of users who have rated 50 or more items = 125871\n",
      "Number of unique USERS in final data =  1540\n",
      "Number of unique ITEMS in final data =  48190\n"
     ]
    }
   ],
   "source": [
    "print('Number of users who have rated 50 or more items =', len(df_s))\n",
    "print('Number of unique USERS in final data = ', df_s['userid'].nunique())\n",
    "print('Number of unique ITEMS in final data = ', df_s['productid'].nunique())"
   ]
  },
  {
   "cell_type": "code",
   "execution_count": 23,
   "metadata": {},
   "outputs": [],
   "source": [
    "# replacing null values with 0 for the rating to be plotted in the crosstab\n",
    "\n",
    "df_matrix = df_s.pivot(index='userid', columns='productid', values='ratings').fillna(0)"
   ]
  },
  {
   "cell_type": "code",
   "execution_count": 24,
   "metadata": {},
   "outputs": [],
   "source": [
    "# Calculate density of rating matrix\n",
    "\n",
    "# count of total given number of ratings\n",
    "given_num_of_ratings = np.count_nonzero(df_matrix)\n",
    "\n",
    "\n",
    "# Total possible number of ratings\n",
    "possible_num_of_ratings = df_matrix.shape[0]*df_matrix.shape[1]\n",
    "\n",
    "\n",
    "density = (given_num_of_ratings)/(possible_num_of_ratings)*100"
   ]
  },
  {
   "cell_type": "code",
   "execution_count": 25,
   "metadata": {},
   "outputs": [
    {
     "name": "stdout",
     "output_type": "stream",
     "text": [
      "density: 0.17%\n"
     ]
    }
   ],
   "source": [
    "print ('density: {:4.2f}%'.format(density))\n",
    "\n",
    "# result:\n",
    "    # density looks to be very less, means data is highly sparsh\n",
    "    # Therefore, we have to use SVD method to proceed with further recommendation"
   ]
  },
  {
   "cell_type": "code",
   "execution_count": 26,
   "metadata": {},
   "outputs": [
    {
     "data": {
      "text/html": [
       "<div>\n",
       "<style scoped>\n",
       "    .dataframe tbody tr th:only-of-type {\n",
       "        vertical-align: middle;\n",
       "    }\n",
       "\n",
       "    .dataframe tbody tr th {\n",
       "        vertical-align: top;\n",
       "    }\n",
       "\n",
       "    .dataframe thead th {\n",
       "        text-align: right;\n",
       "    }\n",
       "</style>\n",
       "<table border=\"1\" class=\"dataframe\">\n",
       "  <thead>\n",
       "    <tr style=\"text-align: right;\">\n",
       "      <th>productid</th>\n",
       "      <th>0594451647</th>\n",
       "      <th>0594481813</th>\n",
       "      <th>0970407998</th>\n",
       "      <th>0972683275</th>\n",
       "      <th>1400501466</th>\n",
       "      <th>1400501520</th>\n",
       "      <th>1400501776</th>\n",
       "      <th>1400532620</th>\n",
       "      <th>1400532655</th>\n",
       "      <th>140053271X</th>\n",
       "      <th>...</th>\n",
       "      <th>B00L5YZCCG</th>\n",
       "      <th>B00L8I6SFY</th>\n",
       "      <th>B00L8QCVL6</th>\n",
       "      <th>B00LA6T0LS</th>\n",
       "      <th>B00LBZ1Z7K</th>\n",
       "      <th>B00LED02VY</th>\n",
       "      <th>B00LGN7Y3G</th>\n",
       "      <th>B00LGQ6HL8</th>\n",
       "      <th>B00LI4ZZO8</th>\n",
       "      <th>B00LKG1MC8</th>\n",
       "    </tr>\n",
       "    <tr>\n",
       "      <th>userid</th>\n",
       "      <th></th>\n",
       "      <th></th>\n",
       "      <th></th>\n",
       "      <th></th>\n",
       "      <th></th>\n",
       "      <th></th>\n",
       "      <th></th>\n",
       "      <th></th>\n",
       "      <th></th>\n",
       "      <th></th>\n",
       "      <th></th>\n",
       "      <th></th>\n",
       "      <th></th>\n",
       "      <th></th>\n",
       "      <th></th>\n",
       "      <th></th>\n",
       "      <th></th>\n",
       "      <th></th>\n",
       "      <th></th>\n",
       "      <th></th>\n",
       "      <th></th>\n",
       "    </tr>\n",
       "  </thead>\n",
       "  <tbody>\n",
       "    <tr>\n",
       "      <th>A100UD67AHFODS</th>\n",
       "      <td>0.0</td>\n",
       "      <td>0.0</td>\n",
       "      <td>0.0</td>\n",
       "      <td>0.0</td>\n",
       "      <td>0.0</td>\n",
       "      <td>0.0</td>\n",
       "      <td>0.0</td>\n",
       "      <td>0.0</td>\n",
       "      <td>0.0</td>\n",
       "      <td>0.0</td>\n",
       "      <td>...</td>\n",
       "      <td>0.0</td>\n",
       "      <td>0.0</td>\n",
       "      <td>0.0</td>\n",
       "      <td>0.0</td>\n",
       "      <td>0.0</td>\n",
       "      <td>0.0</td>\n",
       "      <td>0.0</td>\n",
       "      <td>0.0</td>\n",
       "      <td>0.0</td>\n",
       "      <td>0.0</td>\n",
       "    </tr>\n",
       "    <tr>\n",
       "      <th>A100WO06OQR8BQ</th>\n",
       "      <td>0.0</td>\n",
       "      <td>0.0</td>\n",
       "      <td>0.0</td>\n",
       "      <td>0.0</td>\n",
       "      <td>0.0</td>\n",
       "      <td>0.0</td>\n",
       "      <td>0.0</td>\n",
       "      <td>0.0</td>\n",
       "      <td>0.0</td>\n",
       "      <td>0.0</td>\n",
       "      <td>...</td>\n",
       "      <td>0.0</td>\n",
       "      <td>0.0</td>\n",
       "      <td>0.0</td>\n",
       "      <td>0.0</td>\n",
       "      <td>0.0</td>\n",
       "      <td>0.0</td>\n",
       "      <td>0.0</td>\n",
       "      <td>0.0</td>\n",
       "      <td>0.0</td>\n",
       "      <td>0.0</td>\n",
       "    </tr>\n",
       "    <tr>\n",
       "      <th>A105S56ODHGJEK</th>\n",
       "      <td>0.0</td>\n",
       "      <td>0.0</td>\n",
       "      <td>0.0</td>\n",
       "      <td>0.0</td>\n",
       "      <td>0.0</td>\n",
       "      <td>0.0</td>\n",
       "      <td>0.0</td>\n",
       "      <td>0.0</td>\n",
       "      <td>0.0</td>\n",
       "      <td>0.0</td>\n",
       "      <td>...</td>\n",
       "      <td>0.0</td>\n",
       "      <td>0.0</td>\n",
       "      <td>0.0</td>\n",
       "      <td>0.0</td>\n",
       "      <td>0.0</td>\n",
       "      <td>0.0</td>\n",
       "      <td>0.0</td>\n",
       "      <td>0.0</td>\n",
       "      <td>0.0</td>\n",
       "      <td>0.0</td>\n",
       "    </tr>\n",
       "    <tr>\n",
       "      <th>A105TOJ6LTVMBG</th>\n",
       "      <td>0.0</td>\n",
       "      <td>0.0</td>\n",
       "      <td>0.0</td>\n",
       "      <td>0.0</td>\n",
       "      <td>0.0</td>\n",
       "      <td>0.0</td>\n",
       "      <td>0.0</td>\n",
       "      <td>0.0</td>\n",
       "      <td>0.0</td>\n",
       "      <td>0.0</td>\n",
       "      <td>...</td>\n",
       "      <td>0.0</td>\n",
       "      <td>0.0</td>\n",
       "      <td>0.0</td>\n",
       "      <td>0.0</td>\n",
       "      <td>0.0</td>\n",
       "      <td>0.0</td>\n",
       "      <td>0.0</td>\n",
       "      <td>0.0</td>\n",
       "      <td>0.0</td>\n",
       "      <td>0.0</td>\n",
       "    </tr>\n",
       "    <tr>\n",
       "      <th>A10AFVU66A79Y1</th>\n",
       "      <td>0.0</td>\n",
       "      <td>0.0</td>\n",
       "      <td>0.0</td>\n",
       "      <td>0.0</td>\n",
       "      <td>0.0</td>\n",
       "      <td>0.0</td>\n",
       "      <td>0.0</td>\n",
       "      <td>0.0</td>\n",
       "      <td>0.0</td>\n",
       "      <td>0.0</td>\n",
       "      <td>...</td>\n",
       "      <td>0.0</td>\n",
       "      <td>0.0</td>\n",
       "      <td>0.0</td>\n",
       "      <td>0.0</td>\n",
       "      <td>0.0</td>\n",
       "      <td>0.0</td>\n",
       "      <td>0.0</td>\n",
       "      <td>0.0</td>\n",
       "      <td>0.0</td>\n",
       "      <td>0.0</td>\n",
       "    </tr>\n",
       "  </tbody>\n",
       "</table>\n",
       "<p>5 rows × 48190 columns</p>\n",
       "</div>"
      ],
      "text/plain": [
       "productid       0594451647  0594481813  0970407998  0972683275  1400501466  \\\n",
       "userid                                                                       \n",
       "A100UD67AHFODS         0.0         0.0         0.0         0.0         0.0   \n",
       "A100WO06OQR8BQ         0.0         0.0         0.0         0.0         0.0   \n",
       "A105S56ODHGJEK         0.0         0.0         0.0         0.0         0.0   \n",
       "A105TOJ6LTVMBG         0.0         0.0         0.0         0.0         0.0   \n",
       "A10AFVU66A79Y1         0.0         0.0         0.0         0.0         0.0   \n",
       "\n",
       "productid       1400501520  1400501776  1400532620  1400532655  140053271X  \\\n",
       "userid                                                                       \n",
       "A100UD67AHFODS         0.0         0.0         0.0         0.0         0.0   \n",
       "A100WO06OQR8BQ         0.0         0.0         0.0         0.0         0.0   \n",
       "A105S56ODHGJEK         0.0         0.0         0.0         0.0         0.0   \n",
       "A105TOJ6LTVMBG         0.0         0.0         0.0         0.0         0.0   \n",
       "A10AFVU66A79Y1         0.0         0.0         0.0         0.0         0.0   \n",
       "\n",
       "productid          ...      B00L5YZCCG  B00L8I6SFY  B00L8QCVL6  B00LA6T0LS  \\\n",
       "userid             ...                                                       \n",
       "A100UD67AHFODS     ...             0.0         0.0         0.0         0.0   \n",
       "A100WO06OQR8BQ     ...             0.0         0.0         0.0         0.0   \n",
       "A105S56ODHGJEK     ...             0.0         0.0         0.0         0.0   \n",
       "A105TOJ6LTVMBG     ...             0.0         0.0         0.0         0.0   \n",
       "A10AFVU66A79Y1     ...             0.0         0.0         0.0         0.0   \n",
       "\n",
       "productid       B00LBZ1Z7K  B00LED02VY  B00LGN7Y3G  B00LGQ6HL8  B00LI4ZZO8  \\\n",
       "userid                                                                       \n",
       "A100UD67AHFODS         0.0         0.0         0.0         0.0         0.0   \n",
       "A100WO06OQR8BQ         0.0         0.0         0.0         0.0         0.0   \n",
       "A105S56ODHGJEK         0.0         0.0         0.0         0.0         0.0   \n",
       "A105TOJ6LTVMBG         0.0         0.0         0.0         0.0         0.0   \n",
       "A10AFVU66A79Y1         0.0         0.0         0.0         0.0         0.0   \n",
       "\n",
       "productid       B00LKG1MC8  \n",
       "userid                      \n",
       "A100UD67AHFODS         0.0  \n",
       "A100WO06OQR8BQ         0.0  \n",
       "A105S56ODHGJEK         0.0  \n",
       "A105TOJ6LTVMBG         0.0  \n",
       "A10AFVU66A79Y1         0.0  \n",
       "\n",
       "[5 rows x 48190 columns]"
      ]
     },
     "execution_count": 26,
     "metadata": {},
     "output_type": "execute_result"
    }
   ],
   "source": [
    "df_matrix.head()"
   ]
  },
  {
   "cell_type": "code",
   "execution_count": 27,
   "metadata": {},
   "outputs": [
    {
     "data": {
      "text/html": [
       "<div>\n",
       "<style scoped>\n",
       "    .dataframe tbody tr th:only-of-type {\n",
       "        vertical-align: middle;\n",
       "    }\n",
       "\n",
       "    .dataframe tbody tr th {\n",
       "        vertical-align: top;\n",
       "    }\n",
       "\n",
       "    .dataframe thead th {\n",
       "        text-align: right;\n",
       "    }\n",
       "</style>\n",
       "<table border=\"1\" class=\"dataframe\">\n",
       "  <thead>\n",
       "    <tr style=\"text-align: right;\">\n",
       "      <th></th>\n",
       "      <th>userid</th>\n",
       "      <th>productid</th>\n",
       "      <th>ratings</th>\n",
       "    </tr>\n",
       "  </thead>\n",
       "  <tbody>\n",
       "    <tr>\n",
       "      <th>2283146</th>\n",
       "      <td>A2WLNSZ9U0T1S3</td>\n",
       "      <td>B001SEQN3U</td>\n",
       "      <td>4.0</td>\n",
       "    </tr>\n",
       "    <tr>\n",
       "      <th>6943885</th>\n",
       "      <td>A2XIOXRRYX0KZY</td>\n",
       "      <td>B00AR95FOU</td>\n",
       "      <td>4.0</td>\n",
       "    </tr>\n",
       "    <tr>\n",
       "      <th>6083141</th>\n",
       "      <td>A3AZI828WJN1CD</td>\n",
       "      <td>B0085YTCYS</td>\n",
       "      <td>3.0</td>\n",
       "    </tr>\n",
       "    <tr>\n",
       "      <th>6105233</th>\n",
       "      <td>AMKNPIDFLRFMP</td>\n",
       "      <td>B0088CJT4U</td>\n",
       "      <td>5.0</td>\n",
       "    </tr>\n",
       "    <tr>\n",
       "      <th>974734</th>\n",
       "      <td>A5A4374R8I7NB</td>\n",
       "      <td>B000GLIIFW</td>\n",
       "      <td>4.0</td>\n",
       "    </tr>\n",
       "  </tbody>\n",
       "</table>\n",
       "</div>"
      ],
      "text/plain": [
       "                 userid   productid  ratings\n",
       "2283146  A2WLNSZ9U0T1S3  B001SEQN3U      4.0\n",
       "6943885  A2XIOXRRYX0KZY  B00AR95FOU      4.0\n",
       "6083141  A3AZI828WJN1CD  B0085YTCYS      3.0\n",
       "6105233   AMKNPIDFLRFMP  B0088CJT4U      5.0\n",
       "974734    A5A4374R8I7NB  B000GLIIFW      4.0"
      ]
     },
     "execution_count": 27,
     "metadata": {},
     "output_type": "execute_result"
    }
   ],
   "source": [
    "# split data set into train & test set.\n",
    "\n",
    "train_data, test_data = train_test_split(df_s, test_size = 0.3, random_state=9)\n",
    "train_data.head()"
   ]
  },
  {
   "cell_type": "code",
   "execution_count": 28,
   "metadata": {},
   "outputs": [
    {
     "data": {
      "text/plain": [
       "(88109, 3)"
      ]
     },
     "execution_count": 28,
     "metadata": {},
     "output_type": "execute_result"
    }
   ],
   "source": [
    "train_data.shape"
   ]
  },
  {
   "cell_type": "code",
   "execution_count": 29,
   "metadata": {},
   "outputs": [
    {
     "data": {
      "text/plain": [
       "(37762, 3)"
      ]
     },
     "execution_count": 29,
     "metadata": {},
     "output_type": "execute_result"
    }
   ],
   "source": [
    "test_data.shape"
   ]
  },
  {
   "cell_type": "markdown",
   "metadata": {},
   "source": [
    "## Popularity Recommender model (Non-personalised)\n",
    "Product pupularity based system targetted at new customers"
   ]
  },
  {
   "cell_type": "code",
   "execution_count": 30,
   "metadata": {},
   "outputs": [],
   "source": [
    "# Count of userid for each unique productid as recommendation score \n",
    "\n",
    "train_data_grp = train_data.groupby('productid').agg({'userid':'count'}).reset_index()\n",
    "train_data_grp.rename(columns = {'userid': 'score'},inplace=True)"
   ]
  },
  {
   "cell_type": "code",
   "execution_count": 31,
   "metadata": {},
   "outputs": [
    {
     "data": {
      "text/html": [
       "<div>\n",
       "<style scoped>\n",
       "    .dataframe tbody tr th:only-of-type {\n",
       "        vertical-align: middle;\n",
       "    }\n",
       "\n",
       "    .dataframe tbody tr th {\n",
       "        vertical-align: top;\n",
       "    }\n",
       "\n",
       "    .dataframe thead th {\n",
       "        text-align: right;\n",
       "    }\n",
       "</style>\n",
       "<table border=\"1\" class=\"dataframe\">\n",
       "  <thead>\n",
       "    <tr style=\"text-align: right;\">\n",
       "      <th></th>\n",
       "      <th>productid</th>\n",
       "      <th>score</th>\n",
       "    </tr>\n",
       "  </thead>\n",
       "  <tbody>\n",
       "    <tr>\n",
       "      <th>0</th>\n",
       "      <td>0594451647</td>\n",
       "      <td>1</td>\n",
       "    </tr>\n",
       "    <tr>\n",
       "      <th>1</th>\n",
       "      <td>0594481813</td>\n",
       "      <td>1</td>\n",
       "    </tr>\n",
       "    <tr>\n",
       "      <th>2</th>\n",
       "      <td>0970407998</td>\n",
       "      <td>2</td>\n",
       "    </tr>\n",
       "    <tr>\n",
       "      <th>3</th>\n",
       "      <td>0972683275</td>\n",
       "      <td>4</td>\n",
       "    </tr>\n",
       "    <tr>\n",
       "      <th>4</th>\n",
       "      <td>1400501466</td>\n",
       "      <td>3</td>\n",
       "    </tr>\n",
       "  </tbody>\n",
       "</table>\n",
       "</div>"
      ],
      "text/plain": [
       "    productid  score\n",
       "0  0594451647      1\n",
       "1  0594481813      1\n",
       "2  0970407998      2\n",
       "3  0972683275      4\n",
       "4  1400501466      3"
      ]
     },
     "execution_count": 31,
     "metadata": {},
     "output_type": "execute_result"
    }
   ],
   "source": [
    "train_data_grp.head()"
   ]
  },
  {
   "cell_type": "code",
   "execution_count": 32,
   "metadata": {},
   "outputs": [],
   "source": [
    "# Sort the products on recommendation score \n",
    "\n",
    "train_data_sort = train_data_grp.sort_values(by=['score', 'productid'], ascending=False)"
   ]
  },
  {
   "cell_type": "code",
   "execution_count": 33,
   "metadata": {},
   "outputs": [],
   "source": [
    "# Generate a recommendation rank based upon score\n",
    "\n",
    "train_data_sort['rank'] = train_data_sort['score'].rank(ascending=0, method='first').head(20)"
   ]
  },
  {
   "cell_type": "code",
   "execution_count": 34,
   "metadata": {},
   "outputs": [
    {
     "data": {
      "text/html": [
       "<div>\n",
       "<style scoped>\n",
       "    .dataframe tbody tr th:only-of-type {\n",
       "        vertical-align: middle;\n",
       "    }\n",
       "\n",
       "    .dataframe tbody tr th {\n",
       "        vertical-align: top;\n",
       "    }\n",
       "\n",
       "    .dataframe thead th {\n",
       "        text-align: right;\n",
       "    }\n",
       "</style>\n",
       "<table border=\"1\" class=\"dataframe\">\n",
       "  <thead>\n",
       "    <tr style=\"text-align: right;\">\n",
       "      <th></th>\n",
       "      <th>productid</th>\n",
       "      <th>score</th>\n",
       "      <th>rank</th>\n",
       "    </tr>\n",
       "  </thead>\n",
       "  <tbody>\n",
       "    <tr>\n",
       "      <th>30741</th>\n",
       "      <td>B0088CJT4U</td>\n",
       "      <td>130</td>\n",
       "      <td>1.0</td>\n",
       "    </tr>\n",
       "    <tr>\n",
       "      <th>19526</th>\n",
       "      <td>B003ES5ZUU</td>\n",
       "      <td>119</td>\n",
       "      <td>2.0</td>\n",
       "    </tr>\n",
       "    <tr>\n",
       "      <th>8648</th>\n",
       "      <td>B000N99BBC</td>\n",
       "      <td>119</td>\n",
       "      <td>3.0</td>\n",
       "    </tr>\n",
       "    <tr>\n",
       "      <th>30160</th>\n",
       "      <td>B007WTAJTO</td>\n",
       "      <td>115</td>\n",
       "      <td>4.0</td>\n",
       "    </tr>\n",
       "    <tr>\n",
       "      <th>30449</th>\n",
       "      <td>B00829TIEK</td>\n",
       "      <td>101</td>\n",
       "      <td>5.0</td>\n",
       "    </tr>\n",
       "  </tbody>\n",
       "</table>\n",
       "</div>"
      ],
      "text/plain": [
       "        productid  score  rank\n",
       "30741  B0088CJT4U    130   1.0\n",
       "19526  B003ES5ZUU    119   2.0\n",
       "8648   B000N99BBC    119   3.0\n",
       "30160  B007WTAJTO    115   4.0\n",
       "30449  B00829TIEK    101   5.0"
      ]
     },
     "execution_count": 34,
     "metadata": {},
     "output_type": "execute_result"
    }
   ],
   "source": [
    "# Get the top 5 recommendations\n",
    "\n",
    "popularity_recommendations = train_data_sort.head(5)\n",
    "popularity_recommendations"
   ]
  },
  {
   "cell_type": "code",
   "execution_count": 35,
   "metadata": {},
   "outputs": [],
   "source": [
    "# Use popularity based recommender model to make predictions\n",
    "\n",
    "def recommend(user_id):     \n",
    "    user_recommendations = popularity_recommendations \n",
    "          \n",
    "    # Add userid column for which the recommendations are being generated \n",
    "    user_recommendations['userID'] = user_id \n",
    "      \n",
    "    # Bring userid column to the front \n",
    "    cols = user_recommendations.columns.tolist() \n",
    "    cols = cols[-1:] + cols[:-1] \n",
    "    user_recommendations = user_recommendations[cols] \n",
    "          \n",
    "    return user_recommendations "
   ]
  },
  {
   "cell_type": "code",
   "execution_count": 36,
   "metadata": {},
   "outputs": [
    {
     "name": "stderr",
     "output_type": "stream",
     "text": [
      "C:\\ProgramData\\Anaconda3\\lib\\site-packages\\ipykernel_launcher.py:7: SettingWithCopyWarning: \n",
      "A value is trying to be set on a copy of a slice from a DataFrame.\n",
      "Try using .loc[row_indexer,col_indexer] = value instead\n",
      "\n",
      "See the caveats in the documentation: http://pandas.pydata.org/pandas-docs/stable/indexing.html#indexing-view-versus-copy\n",
      "  import sys\n"
     ]
    },
    {
     "data": {
      "text/html": [
       "<div>\n",
       "<style scoped>\n",
       "    .dataframe tbody tr th:only-of-type {\n",
       "        vertical-align: middle;\n",
       "    }\n",
       "\n",
       "    .dataframe tbody tr th {\n",
       "        vertical-align: top;\n",
       "    }\n",
       "\n",
       "    .dataframe thead th {\n",
       "        text-align: right;\n",
       "    }\n",
       "</style>\n",
       "<table border=\"1\" class=\"dataframe\">\n",
       "  <thead>\n",
       "    <tr style=\"text-align: right;\">\n",
       "      <th></th>\n",
       "      <th>userID</th>\n",
       "      <th>productid</th>\n",
       "      <th>score</th>\n",
       "      <th>rank</th>\n",
       "    </tr>\n",
       "  </thead>\n",
       "  <tbody>\n",
       "    <tr>\n",
       "      <th>30741</th>\n",
       "      <td>A2BYV7S1QP2YIG</td>\n",
       "      <td>B0088CJT4U</td>\n",
       "      <td>130</td>\n",
       "      <td>1.0</td>\n",
       "    </tr>\n",
       "    <tr>\n",
       "      <th>19526</th>\n",
       "      <td>A2BYV7S1QP2YIG</td>\n",
       "      <td>B003ES5ZUU</td>\n",
       "      <td>119</td>\n",
       "      <td>2.0</td>\n",
       "    </tr>\n",
       "    <tr>\n",
       "      <th>8648</th>\n",
       "      <td>A2BYV7S1QP2YIG</td>\n",
       "      <td>B000N99BBC</td>\n",
       "      <td>119</td>\n",
       "      <td>3.0</td>\n",
       "    </tr>\n",
       "    <tr>\n",
       "      <th>30160</th>\n",
       "      <td>A2BYV7S1QP2YIG</td>\n",
       "      <td>B007WTAJTO</td>\n",
       "      <td>115</td>\n",
       "      <td>4.0</td>\n",
       "    </tr>\n",
       "    <tr>\n",
       "      <th>30449</th>\n",
       "      <td>A2BYV7S1QP2YIG</td>\n",
       "      <td>B00829TIEK</td>\n",
       "      <td>101</td>\n",
       "      <td>5.0</td>\n",
       "    </tr>\n",
       "  </tbody>\n",
       "</table>\n",
       "</div>"
      ],
      "text/plain": [
       "               userID   productid  score  rank\n",
       "30741  A2BYV7S1QP2YIG  B0088CJT4U    130   1.0\n",
       "19526  A2BYV7S1QP2YIG  B003ES5ZUU    119   2.0\n",
       "8648   A2BYV7S1QP2YIG  B000N99BBC    119   3.0\n",
       "30160  A2BYV7S1QP2YIG  B007WTAJTO    115   4.0\n",
       "30449  A2BYV7S1QP2YIG  B00829TIEK    101   5.0"
      ]
     },
     "execution_count": 36,
     "metadata": {},
     "output_type": "execute_result"
    },
    {
     "data": {
      "text/html": [
       "<div>\n",
       "<style scoped>\n",
       "    .dataframe tbody tr th:only-of-type {\n",
       "        vertical-align: middle;\n",
       "    }\n",
       "\n",
       "    .dataframe tbody tr th {\n",
       "        vertical-align: top;\n",
       "    }\n",
       "\n",
       "    .dataframe thead th {\n",
       "        text-align: right;\n",
       "    }\n",
       "</style>\n",
       "<table border=\"1\" class=\"dataframe\">\n",
       "  <thead>\n",
       "    <tr style=\"text-align: right;\">\n",
       "      <th></th>\n",
       "      <th>userID</th>\n",
       "      <th>productid</th>\n",
       "      <th>score</th>\n",
       "      <th>rank</th>\n",
       "    </tr>\n",
       "  </thead>\n",
       "  <tbody>\n",
       "    <tr>\n",
       "      <th>30741</th>\n",
       "      <td>AB094YABX21WQ</td>\n",
       "      <td>B0088CJT4U</td>\n",
       "      <td>130</td>\n",
       "      <td>1.0</td>\n",
       "    </tr>\n",
       "    <tr>\n",
       "      <th>19526</th>\n",
       "      <td>AB094YABX21WQ</td>\n",
       "      <td>B003ES5ZUU</td>\n",
       "      <td>119</td>\n",
       "      <td>2.0</td>\n",
       "    </tr>\n",
       "    <tr>\n",
       "      <th>8648</th>\n",
       "      <td>AB094YABX21WQ</td>\n",
       "      <td>B000N99BBC</td>\n",
       "      <td>119</td>\n",
       "      <td>3.0</td>\n",
       "    </tr>\n",
       "    <tr>\n",
       "      <th>30160</th>\n",
       "      <td>AB094YABX21WQ</td>\n",
       "      <td>B007WTAJTO</td>\n",
       "      <td>115</td>\n",
       "      <td>4.0</td>\n",
       "    </tr>\n",
       "    <tr>\n",
       "      <th>30449</th>\n",
       "      <td>AB094YABX21WQ</td>\n",
       "      <td>B00829TIEK</td>\n",
       "      <td>101</td>\n",
       "      <td>5.0</td>\n",
       "    </tr>\n",
       "  </tbody>\n",
       "</table>\n",
       "</div>"
      ],
      "text/plain": [
       "              userID   productid  score  rank\n",
       "30741  AB094YABX21WQ  B0088CJT4U    130   1.0\n",
       "19526  AB094YABX21WQ  B003ES5ZUU    119   2.0\n",
       "8648   AB094YABX21WQ  B000N99BBC    119   3.0\n",
       "30160  AB094YABX21WQ  B007WTAJTO    115   4.0\n",
       "30449  AB094YABX21WQ  B00829TIEK    101   5.0"
      ]
     },
     "execution_count": 36,
     "metadata": {},
     "output_type": "execute_result"
    }
   ],
   "source": [
    "# check recommend based on userid.\n",
    "# Examples:\n",
    "\n",
    "recommend('A2BYV7S1QP2YIG')\n",
    "recommend('AB094YABX21WQ')\n",
    "\n",
    "# Since this is a popularity-based recommender model, recommendations remain the same for all users\n",
    "# We predict the products based on the popularity. It is not personalized to particular user"
   ]
  },
  {
   "cell_type": "markdown",
   "metadata": {},
   "source": [
    "The Popularity-based recommender system is non-personalised and the recommendations are based on frequecy counts, which may be \n",
    "not suitable to the user. The Popularity based model has recommended \n",
    "the same set of 5 products to both but Collaborative Filtering based model has recommended entire different list based on the \n",
    "user past purchase history"
   ]
  },
  {
   "cell_type": "markdown",
   "metadata": {},
   "source": [
    "## Collaborative Filtering model using SVD method\n",
    "Model-based collaborative filtering system based on customer's purchase history and ratings provided by other users who bought items similar items"
   ]
  },
  {
   "cell_type": "code",
   "execution_count": 37,
   "metadata": {},
   "outputs": [],
   "source": [
    "# resetting index for the collaborative filter\n",
    "df_CF = df_s.reset_index()"
   ]
  },
  {
   "cell_type": "code",
   "execution_count": 38,
   "metadata": {},
   "outputs": [
    {
     "data": {
      "text/html": [
       "<div>\n",
       "<style scoped>\n",
       "    .dataframe tbody tr th:only-of-type {\n",
       "        vertical-align: middle;\n",
       "    }\n",
       "\n",
       "    .dataframe tbody tr th {\n",
       "        vertical-align: top;\n",
       "    }\n",
       "\n",
       "    .dataframe thead th {\n",
       "        text-align: right;\n",
       "    }\n",
       "</style>\n",
       "<table border=\"1\" class=\"dataframe\">\n",
       "  <thead>\n",
       "    <tr style=\"text-align: right;\">\n",
       "      <th></th>\n",
       "      <th>index</th>\n",
       "      <th>userid</th>\n",
       "      <th>productid</th>\n",
       "      <th>ratings</th>\n",
       "    </tr>\n",
       "  </thead>\n",
       "  <tbody>\n",
       "    <tr>\n",
       "      <th>0</th>\n",
       "      <td>94</td>\n",
       "      <td>A3BY5KCNQZXV5U</td>\n",
       "      <td>0594451647</td>\n",
       "      <td>5.0</td>\n",
       "    </tr>\n",
       "    <tr>\n",
       "      <th>1</th>\n",
       "      <td>118</td>\n",
       "      <td>AT09WGFUM934H</td>\n",
       "      <td>0594481813</td>\n",
       "      <td>3.0</td>\n",
       "    </tr>\n",
       "    <tr>\n",
       "      <th>2</th>\n",
       "      <td>177</td>\n",
       "      <td>A32HSNCNPRUMTR</td>\n",
       "      <td>0970407998</td>\n",
       "      <td>1.0</td>\n",
       "    </tr>\n",
       "    <tr>\n",
       "      <th>3</th>\n",
       "      <td>178</td>\n",
       "      <td>A17HMM1M7T9PJ1</td>\n",
       "      <td>0970407998</td>\n",
       "      <td>4.0</td>\n",
       "    </tr>\n",
       "    <tr>\n",
       "      <th>4</th>\n",
       "      <td>492</td>\n",
       "      <td>A3CLWR1UUZT6TG</td>\n",
       "      <td>0972683275</td>\n",
       "      <td>5.0</td>\n",
       "    </tr>\n",
       "  </tbody>\n",
       "</table>\n",
       "</div>"
      ],
      "text/plain": [
       "   index          userid   productid  ratings\n",
       "0     94  A3BY5KCNQZXV5U  0594451647      5.0\n",
       "1    118   AT09WGFUM934H  0594481813      3.0\n",
       "2    177  A32HSNCNPRUMTR  0970407998      1.0\n",
       "3    178  A17HMM1M7T9PJ1  0970407998      4.0\n",
       "4    492  A3CLWR1UUZT6TG  0972683275      5.0"
      ]
     },
     "execution_count": 38,
     "metadata": {},
     "output_type": "execute_result"
    }
   ],
   "source": [
    "df_CF.head()"
   ]
  },
  {
   "cell_type": "code",
   "execution_count": 39,
   "metadata": {},
   "outputs": [
    {
     "data": {
      "text/plain": [
       "(1540, 48190)"
      ]
     },
     "execution_count": 39,
     "metadata": {},
     "output_type": "execute_result"
    },
    {
     "data": {
      "text/html": [
       "<div>\n",
       "<style scoped>\n",
       "    .dataframe tbody tr th:only-of-type {\n",
       "        vertical-align: middle;\n",
       "    }\n",
       "\n",
       "    .dataframe tbody tr th {\n",
       "        vertical-align: top;\n",
       "    }\n",
       "\n",
       "    .dataframe thead th {\n",
       "        text-align: right;\n",
       "    }\n",
       "</style>\n",
       "<table border=\"1\" class=\"dataframe\">\n",
       "  <thead>\n",
       "    <tr style=\"text-align: right;\">\n",
       "      <th>productid</th>\n",
       "      <th>0594451647</th>\n",
       "      <th>0594481813</th>\n",
       "      <th>0970407998</th>\n",
       "      <th>0972683275</th>\n",
       "      <th>1400501466</th>\n",
       "      <th>1400501520</th>\n",
       "      <th>1400501776</th>\n",
       "      <th>1400532620</th>\n",
       "      <th>1400532655</th>\n",
       "      <th>140053271X</th>\n",
       "      <th>...</th>\n",
       "      <th>B00L5YZCCG</th>\n",
       "      <th>B00L8I6SFY</th>\n",
       "      <th>B00L8QCVL6</th>\n",
       "      <th>B00LA6T0LS</th>\n",
       "      <th>B00LBZ1Z7K</th>\n",
       "      <th>B00LED02VY</th>\n",
       "      <th>B00LGN7Y3G</th>\n",
       "      <th>B00LGQ6HL8</th>\n",
       "      <th>B00LI4ZZO8</th>\n",
       "      <th>B00LKG1MC8</th>\n",
       "    </tr>\n",
       "    <tr>\n",
       "      <th>userid</th>\n",
       "      <th></th>\n",
       "      <th></th>\n",
       "      <th></th>\n",
       "      <th></th>\n",
       "      <th></th>\n",
       "      <th></th>\n",
       "      <th></th>\n",
       "      <th></th>\n",
       "      <th></th>\n",
       "      <th></th>\n",
       "      <th></th>\n",
       "      <th></th>\n",
       "      <th></th>\n",
       "      <th></th>\n",
       "      <th></th>\n",
       "      <th></th>\n",
       "      <th></th>\n",
       "      <th></th>\n",
       "      <th></th>\n",
       "      <th></th>\n",
       "      <th></th>\n",
       "    </tr>\n",
       "  </thead>\n",
       "  <tbody>\n",
       "    <tr>\n",
       "      <th>A100UD67AHFODS</th>\n",
       "      <td>0.0</td>\n",
       "      <td>0.0</td>\n",
       "      <td>0.0</td>\n",
       "      <td>0.0</td>\n",
       "      <td>0.0</td>\n",
       "      <td>0.0</td>\n",
       "      <td>0.0</td>\n",
       "      <td>0.0</td>\n",
       "      <td>0.0</td>\n",
       "      <td>0.0</td>\n",
       "      <td>...</td>\n",
       "      <td>0.0</td>\n",
       "      <td>0.0</td>\n",
       "      <td>0.0</td>\n",
       "      <td>0.0</td>\n",
       "      <td>0.0</td>\n",
       "      <td>0.0</td>\n",
       "      <td>0.0</td>\n",
       "      <td>0.0</td>\n",
       "      <td>0.0</td>\n",
       "      <td>0.0</td>\n",
       "    </tr>\n",
       "    <tr>\n",
       "      <th>A100WO06OQR8BQ</th>\n",
       "      <td>0.0</td>\n",
       "      <td>0.0</td>\n",
       "      <td>0.0</td>\n",
       "      <td>0.0</td>\n",
       "      <td>0.0</td>\n",
       "      <td>0.0</td>\n",
       "      <td>0.0</td>\n",
       "      <td>0.0</td>\n",
       "      <td>0.0</td>\n",
       "      <td>0.0</td>\n",
       "      <td>...</td>\n",
       "      <td>0.0</td>\n",
       "      <td>0.0</td>\n",
       "      <td>0.0</td>\n",
       "      <td>0.0</td>\n",
       "      <td>0.0</td>\n",
       "      <td>0.0</td>\n",
       "      <td>0.0</td>\n",
       "      <td>0.0</td>\n",
       "      <td>0.0</td>\n",
       "      <td>0.0</td>\n",
       "    </tr>\n",
       "    <tr>\n",
       "      <th>A105S56ODHGJEK</th>\n",
       "      <td>0.0</td>\n",
       "      <td>0.0</td>\n",
       "      <td>0.0</td>\n",
       "      <td>0.0</td>\n",
       "      <td>0.0</td>\n",
       "      <td>0.0</td>\n",
       "      <td>0.0</td>\n",
       "      <td>0.0</td>\n",
       "      <td>0.0</td>\n",
       "      <td>0.0</td>\n",
       "      <td>...</td>\n",
       "      <td>0.0</td>\n",
       "      <td>0.0</td>\n",
       "      <td>0.0</td>\n",
       "      <td>0.0</td>\n",
       "      <td>0.0</td>\n",
       "      <td>0.0</td>\n",
       "      <td>0.0</td>\n",
       "      <td>0.0</td>\n",
       "      <td>0.0</td>\n",
       "      <td>0.0</td>\n",
       "    </tr>\n",
       "    <tr>\n",
       "      <th>A105TOJ6LTVMBG</th>\n",
       "      <td>0.0</td>\n",
       "      <td>0.0</td>\n",
       "      <td>0.0</td>\n",
       "      <td>0.0</td>\n",
       "      <td>0.0</td>\n",
       "      <td>0.0</td>\n",
       "      <td>0.0</td>\n",
       "      <td>0.0</td>\n",
       "      <td>0.0</td>\n",
       "      <td>0.0</td>\n",
       "      <td>...</td>\n",
       "      <td>0.0</td>\n",
       "      <td>0.0</td>\n",
       "      <td>0.0</td>\n",
       "      <td>0.0</td>\n",
       "      <td>0.0</td>\n",
       "      <td>0.0</td>\n",
       "      <td>0.0</td>\n",
       "      <td>0.0</td>\n",
       "      <td>0.0</td>\n",
       "      <td>0.0</td>\n",
       "    </tr>\n",
       "    <tr>\n",
       "      <th>A10AFVU66A79Y1</th>\n",
       "      <td>0.0</td>\n",
       "      <td>0.0</td>\n",
       "      <td>0.0</td>\n",
       "      <td>0.0</td>\n",
       "      <td>0.0</td>\n",
       "      <td>0.0</td>\n",
       "      <td>0.0</td>\n",
       "      <td>0.0</td>\n",
       "      <td>0.0</td>\n",
       "      <td>0.0</td>\n",
       "      <td>...</td>\n",
       "      <td>0.0</td>\n",
       "      <td>0.0</td>\n",
       "      <td>0.0</td>\n",
       "      <td>0.0</td>\n",
       "      <td>0.0</td>\n",
       "      <td>0.0</td>\n",
       "      <td>0.0</td>\n",
       "      <td>0.0</td>\n",
       "      <td>0.0</td>\n",
       "      <td>0.0</td>\n",
       "    </tr>\n",
       "  </tbody>\n",
       "</table>\n",
       "<p>5 rows × 48190 columns</p>\n",
       "</div>"
      ],
      "text/plain": [
       "productid       0594451647  0594481813  0970407998  0972683275  1400501466  \\\n",
       "userid                                                                       \n",
       "A100UD67AHFODS         0.0         0.0         0.0         0.0         0.0   \n",
       "A100WO06OQR8BQ         0.0         0.0         0.0         0.0         0.0   \n",
       "A105S56ODHGJEK         0.0         0.0         0.0         0.0         0.0   \n",
       "A105TOJ6LTVMBG         0.0         0.0         0.0         0.0         0.0   \n",
       "A10AFVU66A79Y1         0.0         0.0         0.0         0.0         0.0   \n",
       "\n",
       "productid       1400501520  1400501776  1400532620  1400532655  140053271X  \\\n",
       "userid                                                                       \n",
       "A100UD67AHFODS         0.0         0.0         0.0         0.0         0.0   \n",
       "A100WO06OQR8BQ         0.0         0.0         0.0         0.0         0.0   \n",
       "A105S56ODHGJEK         0.0         0.0         0.0         0.0         0.0   \n",
       "A105TOJ6LTVMBG         0.0         0.0         0.0         0.0         0.0   \n",
       "A10AFVU66A79Y1         0.0         0.0         0.0         0.0         0.0   \n",
       "\n",
       "productid          ...      B00L5YZCCG  B00L8I6SFY  B00L8QCVL6  B00LA6T0LS  \\\n",
       "userid             ...                                                       \n",
       "A100UD67AHFODS     ...             0.0         0.0         0.0         0.0   \n",
       "A100WO06OQR8BQ     ...             0.0         0.0         0.0         0.0   \n",
       "A105S56ODHGJEK     ...             0.0         0.0         0.0         0.0   \n",
       "A105TOJ6LTVMBG     ...             0.0         0.0         0.0         0.0   \n",
       "A10AFVU66A79Y1     ...             0.0         0.0         0.0         0.0   \n",
       "\n",
       "productid       B00LBZ1Z7K  B00LED02VY  B00LGN7Y3G  B00LGQ6HL8  B00LI4ZZO8  \\\n",
       "userid                                                                       \n",
       "A100UD67AHFODS         0.0         0.0         0.0         0.0         0.0   \n",
       "A100WO06OQR8BQ         0.0         0.0         0.0         0.0         0.0   \n",
       "A105S56ODHGJEK         0.0         0.0         0.0         0.0         0.0   \n",
       "A105TOJ6LTVMBG         0.0         0.0         0.0         0.0         0.0   \n",
       "A10AFVU66A79Y1         0.0         0.0         0.0         0.0         0.0   \n",
       "\n",
       "productid       B00LKG1MC8  \n",
       "userid                      \n",
       "A100UD67AHFODS         0.0  \n",
       "A100WO06OQR8BQ         0.0  \n",
       "A105S56ODHGJEK         0.0  \n",
       "A105TOJ6LTVMBG         0.0  \n",
       "A10AFVU66A79Y1         0.0  \n",
       "\n",
       "[5 rows x 48190 columns]"
      ]
     },
     "execution_count": 39,
     "metadata": {},
     "output_type": "execute_result"
    }
   ],
   "source": [
    "# Matrix with row per 'user' and column per 'item' \n",
    "\n",
    "pivot_df = df_CF.pivot(index = 'userid', columns ='productid', values = 'ratings').fillna(0)\n",
    "pivot_df.shape\n",
    "pivot_df.head()"
   ]
  },
  {
   "cell_type": "code",
   "execution_count": 40,
   "metadata": {},
   "outputs": [
    {
     "data": {
      "text/html": [
       "<div>\n",
       "<style scoped>\n",
       "    .dataframe tbody tr th:only-of-type {\n",
       "        vertical-align: middle;\n",
       "    }\n",
       "\n",
       "    .dataframe tbody tr th {\n",
       "        vertical-align: top;\n",
       "    }\n",
       "\n",
       "    .dataframe thead th {\n",
       "        text-align: right;\n",
       "    }\n",
       "</style>\n",
       "<table border=\"1\" class=\"dataframe\">\n",
       "  <thead>\n",
       "    <tr style=\"text-align: right;\">\n",
       "      <th>productid</th>\n",
       "      <th>0594451647</th>\n",
       "      <th>0594481813</th>\n",
       "      <th>0970407998</th>\n",
       "      <th>0972683275</th>\n",
       "      <th>1400501466</th>\n",
       "      <th>1400501520</th>\n",
       "      <th>1400501776</th>\n",
       "      <th>1400532620</th>\n",
       "      <th>1400532655</th>\n",
       "      <th>140053271X</th>\n",
       "      <th>...</th>\n",
       "      <th>B00L5YZCCG</th>\n",
       "      <th>B00L8I6SFY</th>\n",
       "      <th>B00L8QCVL6</th>\n",
       "      <th>B00LA6T0LS</th>\n",
       "      <th>B00LBZ1Z7K</th>\n",
       "      <th>B00LED02VY</th>\n",
       "      <th>B00LGN7Y3G</th>\n",
       "      <th>B00LGQ6HL8</th>\n",
       "      <th>B00LI4ZZO8</th>\n",
       "      <th>B00LKG1MC8</th>\n",
       "    </tr>\n",
       "    <tr>\n",
       "      <th>user_index</th>\n",
       "      <th></th>\n",
       "      <th></th>\n",
       "      <th></th>\n",
       "      <th></th>\n",
       "      <th></th>\n",
       "      <th></th>\n",
       "      <th></th>\n",
       "      <th></th>\n",
       "      <th></th>\n",
       "      <th></th>\n",
       "      <th></th>\n",
       "      <th></th>\n",
       "      <th></th>\n",
       "      <th></th>\n",
       "      <th></th>\n",
       "      <th></th>\n",
       "      <th></th>\n",
       "      <th></th>\n",
       "      <th></th>\n",
       "      <th></th>\n",
       "      <th></th>\n",
       "    </tr>\n",
       "  </thead>\n",
       "  <tbody>\n",
       "    <tr>\n",
       "      <th>0</th>\n",
       "      <td>0.0</td>\n",
       "      <td>0.0</td>\n",
       "      <td>0.0</td>\n",
       "      <td>0.0</td>\n",
       "      <td>0.0</td>\n",
       "      <td>0.0</td>\n",
       "      <td>0.0</td>\n",
       "      <td>0.0</td>\n",
       "      <td>0.0</td>\n",
       "      <td>0.0</td>\n",
       "      <td>...</td>\n",
       "      <td>0.0</td>\n",
       "      <td>0.0</td>\n",
       "      <td>0.0</td>\n",
       "      <td>0.0</td>\n",
       "      <td>0.0</td>\n",
       "      <td>0.0</td>\n",
       "      <td>0.0</td>\n",
       "      <td>0.0</td>\n",
       "      <td>0.0</td>\n",
       "      <td>0.0</td>\n",
       "    </tr>\n",
       "    <tr>\n",
       "      <th>1</th>\n",
       "      <td>0.0</td>\n",
       "      <td>0.0</td>\n",
       "      <td>0.0</td>\n",
       "      <td>0.0</td>\n",
       "      <td>0.0</td>\n",
       "      <td>0.0</td>\n",
       "      <td>0.0</td>\n",
       "      <td>0.0</td>\n",
       "      <td>0.0</td>\n",
       "      <td>0.0</td>\n",
       "      <td>...</td>\n",
       "      <td>0.0</td>\n",
       "      <td>0.0</td>\n",
       "      <td>0.0</td>\n",
       "      <td>0.0</td>\n",
       "      <td>0.0</td>\n",
       "      <td>0.0</td>\n",
       "      <td>0.0</td>\n",
       "      <td>0.0</td>\n",
       "      <td>0.0</td>\n",
       "      <td>0.0</td>\n",
       "    </tr>\n",
       "    <tr>\n",
       "      <th>2</th>\n",
       "      <td>0.0</td>\n",
       "      <td>0.0</td>\n",
       "      <td>0.0</td>\n",
       "      <td>0.0</td>\n",
       "      <td>0.0</td>\n",
       "      <td>0.0</td>\n",
       "      <td>0.0</td>\n",
       "      <td>0.0</td>\n",
       "      <td>0.0</td>\n",
       "      <td>0.0</td>\n",
       "      <td>...</td>\n",
       "      <td>0.0</td>\n",
       "      <td>0.0</td>\n",
       "      <td>0.0</td>\n",
       "      <td>0.0</td>\n",
       "      <td>0.0</td>\n",
       "      <td>0.0</td>\n",
       "      <td>0.0</td>\n",
       "      <td>0.0</td>\n",
       "      <td>0.0</td>\n",
       "      <td>0.0</td>\n",
       "    </tr>\n",
       "    <tr>\n",
       "      <th>3</th>\n",
       "      <td>0.0</td>\n",
       "      <td>0.0</td>\n",
       "      <td>0.0</td>\n",
       "      <td>0.0</td>\n",
       "      <td>0.0</td>\n",
       "      <td>0.0</td>\n",
       "      <td>0.0</td>\n",
       "      <td>0.0</td>\n",
       "      <td>0.0</td>\n",
       "      <td>0.0</td>\n",
       "      <td>...</td>\n",
       "      <td>0.0</td>\n",
       "      <td>0.0</td>\n",
       "      <td>0.0</td>\n",
       "      <td>0.0</td>\n",
       "      <td>0.0</td>\n",
       "      <td>0.0</td>\n",
       "      <td>0.0</td>\n",
       "      <td>0.0</td>\n",
       "      <td>0.0</td>\n",
       "      <td>0.0</td>\n",
       "    </tr>\n",
       "    <tr>\n",
       "      <th>4</th>\n",
       "      <td>0.0</td>\n",
       "      <td>0.0</td>\n",
       "      <td>0.0</td>\n",
       "      <td>0.0</td>\n",
       "      <td>0.0</td>\n",
       "      <td>0.0</td>\n",
       "      <td>0.0</td>\n",
       "      <td>0.0</td>\n",
       "      <td>0.0</td>\n",
       "      <td>0.0</td>\n",
       "      <td>...</td>\n",
       "      <td>0.0</td>\n",
       "      <td>0.0</td>\n",
       "      <td>0.0</td>\n",
       "      <td>0.0</td>\n",
       "      <td>0.0</td>\n",
       "      <td>0.0</td>\n",
       "      <td>0.0</td>\n",
       "      <td>0.0</td>\n",
       "      <td>0.0</td>\n",
       "      <td>0.0</td>\n",
       "    </tr>\n",
       "  </tbody>\n",
       "</table>\n",
       "<p>5 rows × 48190 columns</p>\n",
       "</div>"
      ],
      "text/plain": [
       "productid   0594451647  0594481813  0970407998  0972683275  1400501466  \\\n",
       "user_index                                                               \n",
       "0                  0.0         0.0         0.0         0.0         0.0   \n",
       "1                  0.0         0.0         0.0         0.0         0.0   \n",
       "2                  0.0         0.0         0.0         0.0         0.0   \n",
       "3                  0.0         0.0         0.0         0.0         0.0   \n",
       "4                  0.0         0.0         0.0         0.0         0.0   \n",
       "\n",
       "productid   1400501520  1400501776  1400532620  1400532655  140053271X  \\\n",
       "user_index                                                               \n",
       "0                  0.0         0.0         0.0         0.0         0.0   \n",
       "1                  0.0         0.0         0.0         0.0         0.0   \n",
       "2                  0.0         0.0         0.0         0.0         0.0   \n",
       "3                  0.0         0.0         0.0         0.0         0.0   \n",
       "4                  0.0         0.0         0.0         0.0         0.0   \n",
       "\n",
       "productid      ...      B00L5YZCCG  B00L8I6SFY  B00L8QCVL6  B00LA6T0LS  \\\n",
       "user_index     ...                                                       \n",
       "0              ...             0.0         0.0         0.0         0.0   \n",
       "1              ...             0.0         0.0         0.0         0.0   \n",
       "2              ...             0.0         0.0         0.0         0.0   \n",
       "3              ...             0.0         0.0         0.0         0.0   \n",
       "4              ...             0.0         0.0         0.0         0.0   \n",
       "\n",
       "productid   B00LBZ1Z7K  B00LED02VY  B00LGN7Y3G  B00LGQ6HL8  B00LI4ZZO8  \\\n",
       "user_index                                                               \n",
       "0                  0.0         0.0         0.0         0.0         0.0   \n",
       "1                  0.0         0.0         0.0         0.0         0.0   \n",
       "2                  0.0         0.0         0.0         0.0         0.0   \n",
       "3                  0.0         0.0         0.0         0.0         0.0   \n",
       "4                  0.0         0.0         0.0         0.0         0.0   \n",
       "\n",
       "productid   B00LKG1MC8  \n",
       "user_index              \n",
       "0                  0.0  \n",
       "1                  0.0  \n",
       "2                  0.0  \n",
       "3                  0.0  \n",
       "4                  0.0  \n",
       "\n",
       "[5 rows x 48190 columns]"
      ]
     },
     "execution_count": 40,
     "metadata": {},
     "output_type": "execute_result"
    }
   ],
   "source": [
    "# creating a new column 'user_index' which is a sequential number from 0 to total number of users\n",
    "\n",
    "pivot_df['user_index'] = np.arange(0, pivot_df.shape[0], 1)\n",
    "pivot_df.set_index(['user_index'], inplace=True)\n",
    "pivot_df.head()"
   ]
  },
  {
   "cell_type": "markdown",
   "metadata": {},
   "source": [
    "### Implementing SVD\n",
    "SVD (Singular Value Decomposition) is best to apply on a large sparse matrix"
   ]
  },
  {
   "cell_type": "code",
   "execution_count": 41,
   "metadata": {},
   "outputs": [],
   "source": [
    "# Extracting U, sigma and Vt from the svd function\n",
    "U, sigma, Vt = svds(pivot_df, k = 10)\n",
    "\n",
    "# diagonal array for sigma\n",
    "sigma = np.diag(sigma)"
   ]
  },
  {
   "cell_type": "code",
   "execution_count": 42,
   "metadata": {},
   "outputs": [
    {
     "data": {
      "text/html": [
       "<div>\n",
       "<style scoped>\n",
       "    .dataframe tbody tr th:only-of-type {\n",
       "        vertical-align: middle;\n",
       "    }\n",
       "\n",
       "    .dataframe tbody tr th {\n",
       "        vertical-align: top;\n",
       "    }\n",
       "\n",
       "    .dataframe thead th {\n",
       "        text-align: right;\n",
       "    }\n",
       "</style>\n",
       "<table border=\"1\" class=\"dataframe\">\n",
       "  <thead>\n",
       "    <tr style=\"text-align: right;\">\n",
       "      <th>productid</th>\n",
       "      <th>0594451647</th>\n",
       "      <th>0594481813</th>\n",
       "      <th>0970407998</th>\n",
       "      <th>0972683275</th>\n",
       "      <th>1400501466</th>\n",
       "      <th>1400501520</th>\n",
       "      <th>1400501776</th>\n",
       "      <th>1400532620</th>\n",
       "      <th>1400532655</th>\n",
       "      <th>140053271X</th>\n",
       "      <th>...</th>\n",
       "      <th>B00L5YZCCG</th>\n",
       "      <th>B00L8I6SFY</th>\n",
       "      <th>B00L8QCVL6</th>\n",
       "      <th>B00LA6T0LS</th>\n",
       "      <th>B00LBZ1Z7K</th>\n",
       "      <th>B00LED02VY</th>\n",
       "      <th>B00LGN7Y3G</th>\n",
       "      <th>B00LGQ6HL8</th>\n",
       "      <th>B00LI4ZZO8</th>\n",
       "      <th>B00LKG1MC8</th>\n",
       "    </tr>\n",
       "  </thead>\n",
       "  <tbody>\n",
       "    <tr>\n",
       "      <th>0</th>\n",
       "      <td>0.002661</td>\n",
       "      <td>0.003576</td>\n",
       "      <td>0.004050</td>\n",
       "      <td>0.006906</td>\n",
       "      <td>0.003967</td>\n",
       "      <td>0.003073</td>\n",
       "      <td>0.005782</td>\n",
       "      <td>0.000568</td>\n",
       "      <td>0.014386</td>\n",
       "      <td>0.002708</td>\n",
       "      <td>...</td>\n",
       "      <td>6.108890e-04</td>\n",
       "      <td>0.044224</td>\n",
       "      <td>0.002919</td>\n",
       "      <td>0.060347</td>\n",
       "      <td>-0.002137</td>\n",
       "      <td>0.006751</td>\n",
       "      <td>0.001525</td>\n",
       "      <td>0.130951</td>\n",
       "      <td>0.059243</td>\n",
       "      <td>0.015014</td>\n",
       "    </tr>\n",
       "    <tr>\n",
       "      <th>1</th>\n",
       "      <td>0.002262</td>\n",
       "      <td>0.002505</td>\n",
       "      <td>0.005136</td>\n",
       "      <td>0.016517</td>\n",
       "      <td>0.007120</td>\n",
       "      <td>0.001438</td>\n",
       "      <td>0.013258</td>\n",
       "      <td>0.000335</td>\n",
       "      <td>-0.003781</td>\n",
       "      <td>0.001190</td>\n",
       "      <td>...</td>\n",
       "      <td>2.024793e-04</td>\n",
       "      <td>0.029213</td>\n",
       "      <td>0.000010</td>\n",
       "      <td>0.000244</td>\n",
       "      <td>-0.003111</td>\n",
       "      <td>-0.000621</td>\n",
       "      <td>0.004409</td>\n",
       "      <td>-0.039241</td>\n",
       "      <td>-0.006889</td>\n",
       "      <td>0.003696</td>\n",
       "    </tr>\n",
       "    <tr>\n",
       "      <th>2</th>\n",
       "      <td>-0.001600</td>\n",
       "      <td>-0.002502</td>\n",
       "      <td>0.002186</td>\n",
       "      <td>0.016742</td>\n",
       "      <td>0.006716</td>\n",
       "      <td>-0.002113</td>\n",
       "      <td>0.005805</td>\n",
       "      <td>0.003497</td>\n",
       "      <td>-0.005009</td>\n",
       "      <td>-0.001588</td>\n",
       "      <td>...</td>\n",
       "      <td>-3.240446e-04</td>\n",
       "      <td>0.009180</td>\n",
       "      <td>-0.002459</td>\n",
       "      <td>-0.016922</td>\n",
       "      <td>0.019936</td>\n",
       "      <td>-0.002483</td>\n",
       "      <td>-0.000155</td>\n",
       "      <td>-0.002889</td>\n",
       "      <td>-0.011522</td>\n",
       "      <td>-0.004525</td>\n",
       "    </tr>\n",
       "    <tr>\n",
       "      <th>3</th>\n",
       "      <td>0.002732</td>\n",
       "      <td>0.003867</td>\n",
       "      <td>0.001799</td>\n",
       "      <td>0.009395</td>\n",
       "      <td>0.004075</td>\n",
       "      <td>0.002778</td>\n",
       "      <td>0.003507</td>\n",
       "      <td>0.000095</td>\n",
       "      <td>0.007983</td>\n",
       "      <td>0.002381</td>\n",
       "      <td>...</td>\n",
       "      <td>6.031462e-04</td>\n",
       "      <td>-0.003369</td>\n",
       "      <td>0.003433</td>\n",
       "      <td>-0.003428</td>\n",
       "      <td>-0.000750</td>\n",
       "      <td>0.000119</td>\n",
       "      <td>0.002612</td>\n",
       "      <td>-0.015107</td>\n",
       "      <td>-0.006740</td>\n",
       "      <td>0.003276</td>\n",
       "    </tr>\n",
       "    <tr>\n",
       "      <th>4</th>\n",
       "      <td>0.000704</td>\n",
       "      <td>0.000085</td>\n",
       "      <td>0.002051</td>\n",
       "      <td>0.009664</td>\n",
       "      <td>0.004438</td>\n",
       "      <td>0.000335</td>\n",
       "      <td>0.005992</td>\n",
       "      <td>0.001056</td>\n",
       "      <td>-0.000369</td>\n",
       "      <td>0.000373</td>\n",
       "      <td>...</td>\n",
       "      <td>3.745108e-08</td>\n",
       "      <td>-0.001140</td>\n",
       "      <td>-0.000323</td>\n",
       "      <td>-0.025215</td>\n",
       "      <td>0.004700</td>\n",
       "      <td>-0.002170</td>\n",
       "      <td>0.001263</td>\n",
       "      <td>-0.048555</td>\n",
       "      <td>-0.016301</td>\n",
       "      <td>-0.003377</td>\n",
       "    </tr>\n",
       "  </tbody>\n",
       "</table>\n",
       "<p>5 rows × 48190 columns</p>\n",
       "</div>"
      ],
      "text/plain": [
       "productid  0594451647  0594481813  0970407998  0972683275  1400501466  \\\n",
       "0            0.002661    0.003576    0.004050    0.006906    0.003967   \n",
       "1            0.002262    0.002505    0.005136    0.016517    0.007120   \n",
       "2           -0.001600   -0.002502    0.002186    0.016742    0.006716   \n",
       "3            0.002732    0.003867    0.001799    0.009395    0.004075   \n",
       "4            0.000704    0.000085    0.002051    0.009664    0.004438   \n",
       "\n",
       "productid  1400501520  1400501776  1400532620  1400532655  140053271X  \\\n",
       "0            0.003073    0.005782    0.000568    0.014386    0.002708   \n",
       "1            0.001438    0.013258    0.000335   -0.003781    0.001190   \n",
       "2           -0.002113    0.005805    0.003497   -0.005009   -0.001588   \n",
       "3            0.002778    0.003507    0.000095    0.007983    0.002381   \n",
       "4            0.000335    0.005992    0.001056   -0.000369    0.000373   \n",
       "\n",
       "productid     ...        B00L5YZCCG  B00L8I6SFY  B00L8QCVL6  B00LA6T0LS  \\\n",
       "0             ...      6.108890e-04    0.044224    0.002919    0.060347   \n",
       "1             ...      2.024793e-04    0.029213    0.000010    0.000244   \n",
       "2             ...     -3.240446e-04    0.009180   -0.002459   -0.016922   \n",
       "3             ...      6.031462e-04   -0.003369    0.003433   -0.003428   \n",
       "4             ...      3.745108e-08   -0.001140   -0.000323   -0.025215   \n",
       "\n",
       "productid  B00LBZ1Z7K  B00LED02VY  B00LGN7Y3G  B00LGQ6HL8  B00LI4ZZO8  \\\n",
       "0           -0.002137    0.006751    0.001525    0.130951    0.059243   \n",
       "1           -0.003111   -0.000621    0.004409   -0.039241   -0.006889   \n",
       "2            0.019936   -0.002483   -0.000155   -0.002889   -0.011522   \n",
       "3           -0.000750    0.000119    0.002612   -0.015107   -0.006740   \n",
       "4            0.004700   -0.002170    0.001263   -0.048555   -0.016301   \n",
       "\n",
       "productid  B00LKG1MC8  \n",
       "0            0.015014  \n",
       "1            0.003696  \n",
       "2           -0.004525  \n",
       "3            0.003276  \n",
       "4           -0.003377  \n",
       "\n",
       "[5 rows x 48190 columns]"
      ]
     },
     "execution_count": 42,
     "metadata": {},
     "output_type": "execute_result"
    }
   ],
   "source": [
    "# calculating M (Matrix); which is a dot product of U, sigma and Vt\n",
    "\n",
    "all_user_predicted_ratings = np.dot(np.dot(U, sigma), Vt) \n",
    "\n",
    "# Predicted ratings\n",
    "\n",
    "preds_df = pd.DataFrame(all_user_predicted_ratings, columns = pivot_df.columns)\n",
    "preds_df.head()"
   ]
  },
  {
   "cell_type": "code",
   "execution_count": 43,
   "metadata": {},
   "outputs": [],
   "source": [
    "# Recommend the items with the highest predicted ratings\n",
    "\n",
    "def recommend_items(userID, pivot_df, preds_df, num_recommendations):\n",
    "      \n",
    "    user_idx = userID-1 # index starts at 0\n",
    "    \n",
    "    # Get and sort the user's ratings\n",
    "    sorted_user_ratings = pivot_df.iloc[user_idx].sort_values(ascending=False)\n",
    "    #sorted_user_ratings\n",
    "    sorted_user_predictions = preds_df.iloc[user_idx].sort_values(ascending=False)\n",
    "    #sorted_user_predictions\n",
    "\n",
    "    temp = pd.concat([sorted_user_ratings, sorted_user_predictions], axis=1, sort=False)\n",
    "    temp.index.name = 'Recommended Products'\n",
    "    temp.columns = ['user_ratings', 'user_predictions']\n",
    "    \n",
    "    temp = temp.loc[temp.user_ratings == 0]   \n",
    "    temp = temp.sort_values('user_predictions', ascending=False)\n",
    "    print('\\nBelow are the recommended products for user(user_id = {}):\\n'.format(userID))\n",
    "    print(temp.head(num_recommendations))"
   ]
  },
  {
   "cell_type": "code",
   "execution_count": 44,
   "metadata": {},
   "outputs": [
    {
     "name": "stdout",
     "output_type": "stream",
     "text": [
      "\n",
      "Below are the recommended products for user(user_id = 1500):\n",
      "\n",
      "                      user_ratings  user_predictions\n",
      "Recommended Products                                \n",
      "B003ES5ZUU                     0.0          1.078326\n",
      "B007WTAJTO                     0.0          0.933721\n",
      "B002V88HFE                     0.0          0.635227\n",
      "B00829TIEK                     0.0          0.590629\n",
      "B002SZEOLG                     0.0          0.519811\n"
     ]
    }
   ],
   "source": [
    "#Enter 'userID' and 'num_recommendations' for the user #\n",
    "\n",
    "userID = 1500\n",
    "num_recommendations = 5\n",
    "recommend_items(userID, pivot_df, preds_df, num_recommendations)"
   ]
  },
  {
   "cell_type": "markdown",
   "metadata": {},
   "source": [
    "#### Model Evaluation"
   ]
  },
  {
   "cell_type": "code",
   "execution_count": 45,
   "metadata": {},
   "outputs": [
    {
     "data": {
      "text/html": [
       "<div>\n",
       "<style scoped>\n",
       "    .dataframe tbody tr th:only-of-type {\n",
       "        vertical-align: middle;\n",
       "    }\n",
       "\n",
       "    .dataframe tbody tr th {\n",
       "        vertical-align: top;\n",
       "    }\n",
       "\n",
       "    .dataframe thead th {\n",
       "        text-align: right;\n",
       "    }\n",
       "</style>\n",
       "<table border=\"1\" class=\"dataframe\">\n",
       "  <thead>\n",
       "    <tr style=\"text-align: right;\">\n",
       "      <th>productid</th>\n",
       "      <th>0594451647</th>\n",
       "      <th>0594481813</th>\n",
       "      <th>0970407998</th>\n",
       "      <th>0972683275</th>\n",
       "      <th>1400501466</th>\n",
       "      <th>1400501520</th>\n",
       "      <th>1400501776</th>\n",
       "      <th>1400532620</th>\n",
       "      <th>1400532655</th>\n",
       "      <th>140053271X</th>\n",
       "      <th>...</th>\n",
       "      <th>B00L5YZCCG</th>\n",
       "      <th>B00L8I6SFY</th>\n",
       "      <th>B00L8QCVL6</th>\n",
       "      <th>B00LA6T0LS</th>\n",
       "      <th>B00LBZ1Z7K</th>\n",
       "      <th>B00LED02VY</th>\n",
       "      <th>B00LGN7Y3G</th>\n",
       "      <th>B00LGQ6HL8</th>\n",
       "      <th>B00LI4ZZO8</th>\n",
       "      <th>B00LKG1MC8</th>\n",
       "    </tr>\n",
       "    <tr>\n",
       "      <th>userid</th>\n",
       "      <th></th>\n",
       "      <th></th>\n",
       "      <th></th>\n",
       "      <th></th>\n",
       "      <th></th>\n",
       "      <th></th>\n",
       "      <th></th>\n",
       "      <th></th>\n",
       "      <th></th>\n",
       "      <th></th>\n",
       "      <th></th>\n",
       "      <th></th>\n",
       "      <th></th>\n",
       "      <th></th>\n",
       "      <th></th>\n",
       "      <th></th>\n",
       "      <th></th>\n",
       "      <th></th>\n",
       "      <th></th>\n",
       "      <th></th>\n",
       "      <th></th>\n",
       "    </tr>\n",
       "  </thead>\n",
       "  <tbody>\n",
       "    <tr>\n",
       "      <th>A100UD67AHFODS</th>\n",
       "      <td>0.0</td>\n",
       "      <td>0.0</td>\n",
       "      <td>0.0</td>\n",
       "      <td>0.0</td>\n",
       "      <td>0.0</td>\n",
       "      <td>0.0</td>\n",
       "      <td>0.0</td>\n",
       "      <td>0.0</td>\n",
       "      <td>0.0</td>\n",
       "      <td>0.0</td>\n",
       "      <td>...</td>\n",
       "      <td>0.0</td>\n",
       "      <td>0.0</td>\n",
       "      <td>0.0</td>\n",
       "      <td>0.0</td>\n",
       "      <td>0.0</td>\n",
       "      <td>0.0</td>\n",
       "      <td>0.0</td>\n",
       "      <td>0.0</td>\n",
       "      <td>0.0</td>\n",
       "      <td>0.0</td>\n",
       "    </tr>\n",
       "    <tr>\n",
       "      <th>A100WO06OQR8BQ</th>\n",
       "      <td>0.0</td>\n",
       "      <td>0.0</td>\n",
       "      <td>0.0</td>\n",
       "      <td>0.0</td>\n",
       "      <td>0.0</td>\n",
       "      <td>0.0</td>\n",
       "      <td>0.0</td>\n",
       "      <td>0.0</td>\n",
       "      <td>0.0</td>\n",
       "      <td>0.0</td>\n",
       "      <td>...</td>\n",
       "      <td>0.0</td>\n",
       "      <td>0.0</td>\n",
       "      <td>0.0</td>\n",
       "      <td>0.0</td>\n",
       "      <td>0.0</td>\n",
       "      <td>0.0</td>\n",
       "      <td>0.0</td>\n",
       "      <td>0.0</td>\n",
       "      <td>0.0</td>\n",
       "      <td>0.0</td>\n",
       "    </tr>\n",
       "    <tr>\n",
       "      <th>A105S56ODHGJEK</th>\n",
       "      <td>0.0</td>\n",
       "      <td>0.0</td>\n",
       "      <td>0.0</td>\n",
       "      <td>0.0</td>\n",
       "      <td>0.0</td>\n",
       "      <td>0.0</td>\n",
       "      <td>0.0</td>\n",
       "      <td>0.0</td>\n",
       "      <td>0.0</td>\n",
       "      <td>0.0</td>\n",
       "      <td>...</td>\n",
       "      <td>0.0</td>\n",
       "      <td>0.0</td>\n",
       "      <td>0.0</td>\n",
       "      <td>0.0</td>\n",
       "      <td>0.0</td>\n",
       "      <td>0.0</td>\n",
       "      <td>0.0</td>\n",
       "      <td>0.0</td>\n",
       "      <td>0.0</td>\n",
       "      <td>0.0</td>\n",
       "    </tr>\n",
       "    <tr>\n",
       "      <th>A105TOJ6LTVMBG</th>\n",
       "      <td>0.0</td>\n",
       "      <td>0.0</td>\n",
       "      <td>0.0</td>\n",
       "      <td>0.0</td>\n",
       "      <td>0.0</td>\n",
       "      <td>0.0</td>\n",
       "      <td>0.0</td>\n",
       "      <td>0.0</td>\n",
       "      <td>0.0</td>\n",
       "      <td>0.0</td>\n",
       "      <td>...</td>\n",
       "      <td>0.0</td>\n",
       "      <td>0.0</td>\n",
       "      <td>0.0</td>\n",
       "      <td>0.0</td>\n",
       "      <td>0.0</td>\n",
       "      <td>0.0</td>\n",
       "      <td>0.0</td>\n",
       "      <td>0.0</td>\n",
       "      <td>0.0</td>\n",
       "      <td>0.0</td>\n",
       "    </tr>\n",
       "    <tr>\n",
       "      <th>A10AFVU66A79Y1</th>\n",
       "      <td>0.0</td>\n",
       "      <td>0.0</td>\n",
       "      <td>0.0</td>\n",
       "      <td>0.0</td>\n",
       "      <td>0.0</td>\n",
       "      <td>0.0</td>\n",
       "      <td>0.0</td>\n",
       "      <td>0.0</td>\n",
       "      <td>0.0</td>\n",
       "      <td>0.0</td>\n",
       "      <td>...</td>\n",
       "      <td>0.0</td>\n",
       "      <td>0.0</td>\n",
       "      <td>0.0</td>\n",
       "      <td>0.0</td>\n",
       "      <td>0.0</td>\n",
       "      <td>0.0</td>\n",
       "      <td>0.0</td>\n",
       "      <td>0.0</td>\n",
       "      <td>0.0</td>\n",
       "      <td>0.0</td>\n",
       "    </tr>\n",
       "  </tbody>\n",
       "</table>\n",
       "<p>5 rows × 48190 columns</p>\n",
       "</div>"
      ],
      "text/plain": [
       "productid       0594451647  0594481813  0970407998  0972683275  1400501466  \\\n",
       "userid                                                                       \n",
       "A100UD67AHFODS         0.0         0.0         0.0         0.0         0.0   \n",
       "A100WO06OQR8BQ         0.0         0.0         0.0         0.0         0.0   \n",
       "A105S56ODHGJEK         0.0         0.0         0.0         0.0         0.0   \n",
       "A105TOJ6LTVMBG         0.0         0.0         0.0         0.0         0.0   \n",
       "A10AFVU66A79Y1         0.0         0.0         0.0         0.0         0.0   \n",
       "\n",
       "productid       1400501520  1400501776  1400532620  1400532655  140053271X  \\\n",
       "userid                                                                       \n",
       "A100UD67AHFODS         0.0         0.0         0.0         0.0         0.0   \n",
       "A100WO06OQR8BQ         0.0         0.0         0.0         0.0         0.0   \n",
       "A105S56ODHGJEK         0.0         0.0         0.0         0.0         0.0   \n",
       "A105TOJ6LTVMBG         0.0         0.0         0.0         0.0         0.0   \n",
       "A10AFVU66A79Y1         0.0         0.0         0.0         0.0         0.0   \n",
       "\n",
       "productid          ...      B00L5YZCCG  B00L8I6SFY  B00L8QCVL6  B00LA6T0LS  \\\n",
       "userid             ...                                                       \n",
       "A100UD67AHFODS     ...             0.0         0.0         0.0         0.0   \n",
       "A100WO06OQR8BQ     ...             0.0         0.0         0.0         0.0   \n",
       "A105S56ODHGJEK     ...             0.0         0.0         0.0         0.0   \n",
       "A105TOJ6LTVMBG     ...             0.0         0.0         0.0         0.0   \n",
       "A10AFVU66A79Y1     ...             0.0         0.0         0.0         0.0   \n",
       "\n",
       "productid       B00LBZ1Z7K  B00LED02VY  B00LGN7Y3G  B00LGQ6HL8  B00LI4ZZO8  \\\n",
       "userid                                                                       \n",
       "A100UD67AHFODS         0.0         0.0         0.0         0.0         0.0   \n",
       "A100WO06OQR8BQ         0.0         0.0         0.0         0.0         0.0   \n",
       "A105S56ODHGJEK         0.0         0.0         0.0         0.0         0.0   \n",
       "A105TOJ6LTVMBG         0.0         0.0         0.0         0.0         0.0   \n",
       "A10AFVU66A79Y1         0.0         0.0         0.0         0.0         0.0   \n",
       "\n",
       "productid       B00LKG1MC8  \n",
       "userid                      \n",
       "A100UD67AHFODS         0.0  \n",
       "A100WO06OQR8BQ         0.0  \n",
       "A105S56ODHGJEK         0.0  \n",
       "A105TOJ6LTVMBG         0.0  \n",
       "A10AFVU66A79Y1         0.0  \n",
       "\n",
       "[5 rows x 48190 columns]"
      ]
     },
     "execution_count": 45,
     "metadata": {},
     "output_type": "execute_result"
    }
   ],
   "source": [
    "# Once the model is trained on the training data, \\\n",
    "# it can be used to compute the error (RMSE) on predictions made on the test data\n",
    "\n",
    "# Actual ratings given by the users\n",
    "df_matrix.head()"
   ]
  },
  {
   "cell_type": "code",
   "execution_count": 46,
   "metadata": {},
   "outputs": [
    {
     "data": {
      "text/plain": [
       "productid\n",
       "0594451647    0.003247\n",
       "0594481813    0.001948\n",
       "0970407998    0.003247\n",
       "0972683275    0.012338\n",
       "1400501466    0.012987\n",
       "dtype: float64"
      ]
     },
     "execution_count": 46,
     "metadata": {},
     "output_type": "execute_result"
    }
   ],
   "source": [
    "# Average Actual rating for each product\n",
    "df_matrix.mean().head()"
   ]
  },
  {
   "cell_type": "code",
   "execution_count": 47,
   "metadata": {},
   "outputs": [
    {
     "data": {
      "text/html": [
       "<div>\n",
       "<style scoped>\n",
       "    .dataframe tbody tr th:only-of-type {\n",
       "        vertical-align: middle;\n",
       "    }\n",
       "\n",
       "    .dataframe tbody tr th {\n",
       "        vertical-align: top;\n",
       "    }\n",
       "\n",
       "    .dataframe thead th {\n",
       "        text-align: right;\n",
       "    }\n",
       "</style>\n",
       "<table border=\"1\" class=\"dataframe\">\n",
       "  <thead>\n",
       "    <tr style=\"text-align: right;\">\n",
       "      <th>productid</th>\n",
       "      <th>0594451647</th>\n",
       "      <th>0594481813</th>\n",
       "      <th>0970407998</th>\n",
       "      <th>0972683275</th>\n",
       "      <th>1400501466</th>\n",
       "      <th>1400501520</th>\n",
       "      <th>1400501776</th>\n",
       "      <th>1400532620</th>\n",
       "      <th>1400532655</th>\n",
       "      <th>140053271X</th>\n",
       "      <th>...</th>\n",
       "      <th>B00L5YZCCG</th>\n",
       "      <th>B00L8I6SFY</th>\n",
       "      <th>B00L8QCVL6</th>\n",
       "      <th>B00LA6T0LS</th>\n",
       "      <th>B00LBZ1Z7K</th>\n",
       "      <th>B00LED02VY</th>\n",
       "      <th>B00LGN7Y3G</th>\n",
       "      <th>B00LGQ6HL8</th>\n",
       "      <th>B00LI4ZZO8</th>\n",
       "      <th>B00LKG1MC8</th>\n",
       "    </tr>\n",
       "  </thead>\n",
       "  <tbody>\n",
       "    <tr>\n",
       "      <th>0</th>\n",
       "      <td>0.002661</td>\n",
       "      <td>0.003576</td>\n",
       "      <td>0.004050</td>\n",
       "      <td>0.006906</td>\n",
       "      <td>0.003967</td>\n",
       "      <td>0.003073</td>\n",
       "      <td>0.005782</td>\n",
       "      <td>0.000568</td>\n",
       "      <td>0.014386</td>\n",
       "      <td>0.002708</td>\n",
       "      <td>...</td>\n",
       "      <td>6.108890e-04</td>\n",
       "      <td>0.044224</td>\n",
       "      <td>0.002919</td>\n",
       "      <td>0.060347</td>\n",
       "      <td>-0.002137</td>\n",
       "      <td>0.006751</td>\n",
       "      <td>0.001525</td>\n",
       "      <td>0.130951</td>\n",
       "      <td>0.059243</td>\n",
       "      <td>0.015014</td>\n",
       "    </tr>\n",
       "    <tr>\n",
       "      <th>1</th>\n",
       "      <td>0.002262</td>\n",
       "      <td>0.002505</td>\n",
       "      <td>0.005136</td>\n",
       "      <td>0.016517</td>\n",
       "      <td>0.007120</td>\n",
       "      <td>0.001438</td>\n",
       "      <td>0.013258</td>\n",
       "      <td>0.000335</td>\n",
       "      <td>-0.003781</td>\n",
       "      <td>0.001190</td>\n",
       "      <td>...</td>\n",
       "      <td>2.024793e-04</td>\n",
       "      <td>0.029213</td>\n",
       "      <td>0.000010</td>\n",
       "      <td>0.000244</td>\n",
       "      <td>-0.003111</td>\n",
       "      <td>-0.000621</td>\n",
       "      <td>0.004409</td>\n",
       "      <td>-0.039241</td>\n",
       "      <td>-0.006889</td>\n",
       "      <td>0.003696</td>\n",
       "    </tr>\n",
       "    <tr>\n",
       "      <th>2</th>\n",
       "      <td>-0.001600</td>\n",
       "      <td>-0.002502</td>\n",
       "      <td>0.002186</td>\n",
       "      <td>0.016742</td>\n",
       "      <td>0.006716</td>\n",
       "      <td>-0.002113</td>\n",
       "      <td>0.005805</td>\n",
       "      <td>0.003497</td>\n",
       "      <td>-0.005009</td>\n",
       "      <td>-0.001588</td>\n",
       "      <td>...</td>\n",
       "      <td>-3.240446e-04</td>\n",
       "      <td>0.009180</td>\n",
       "      <td>-0.002459</td>\n",
       "      <td>-0.016922</td>\n",
       "      <td>0.019936</td>\n",
       "      <td>-0.002483</td>\n",
       "      <td>-0.000155</td>\n",
       "      <td>-0.002889</td>\n",
       "      <td>-0.011522</td>\n",
       "      <td>-0.004525</td>\n",
       "    </tr>\n",
       "    <tr>\n",
       "      <th>3</th>\n",
       "      <td>0.002732</td>\n",
       "      <td>0.003867</td>\n",
       "      <td>0.001799</td>\n",
       "      <td>0.009395</td>\n",
       "      <td>0.004075</td>\n",
       "      <td>0.002778</td>\n",
       "      <td>0.003507</td>\n",
       "      <td>0.000095</td>\n",
       "      <td>0.007983</td>\n",
       "      <td>0.002381</td>\n",
       "      <td>...</td>\n",
       "      <td>6.031462e-04</td>\n",
       "      <td>-0.003369</td>\n",
       "      <td>0.003433</td>\n",
       "      <td>-0.003428</td>\n",
       "      <td>-0.000750</td>\n",
       "      <td>0.000119</td>\n",
       "      <td>0.002612</td>\n",
       "      <td>-0.015107</td>\n",
       "      <td>-0.006740</td>\n",
       "      <td>0.003276</td>\n",
       "    </tr>\n",
       "    <tr>\n",
       "      <th>4</th>\n",
       "      <td>0.000704</td>\n",
       "      <td>0.000085</td>\n",
       "      <td>0.002051</td>\n",
       "      <td>0.009664</td>\n",
       "      <td>0.004438</td>\n",
       "      <td>0.000335</td>\n",
       "      <td>0.005992</td>\n",
       "      <td>0.001056</td>\n",
       "      <td>-0.000369</td>\n",
       "      <td>0.000373</td>\n",
       "      <td>...</td>\n",
       "      <td>3.745108e-08</td>\n",
       "      <td>-0.001140</td>\n",
       "      <td>-0.000323</td>\n",
       "      <td>-0.025215</td>\n",
       "      <td>0.004700</td>\n",
       "      <td>-0.002170</td>\n",
       "      <td>0.001263</td>\n",
       "      <td>-0.048555</td>\n",
       "      <td>-0.016301</td>\n",
       "      <td>-0.003377</td>\n",
       "    </tr>\n",
       "  </tbody>\n",
       "</table>\n",
       "<p>5 rows × 48190 columns</p>\n",
       "</div>"
      ],
      "text/plain": [
       "productid  0594451647  0594481813  0970407998  0972683275  1400501466  \\\n",
       "0            0.002661    0.003576    0.004050    0.006906    0.003967   \n",
       "1            0.002262    0.002505    0.005136    0.016517    0.007120   \n",
       "2           -0.001600   -0.002502    0.002186    0.016742    0.006716   \n",
       "3            0.002732    0.003867    0.001799    0.009395    0.004075   \n",
       "4            0.000704    0.000085    0.002051    0.009664    0.004438   \n",
       "\n",
       "productid  1400501520  1400501776  1400532620  1400532655  140053271X  \\\n",
       "0            0.003073    0.005782    0.000568    0.014386    0.002708   \n",
       "1            0.001438    0.013258    0.000335   -0.003781    0.001190   \n",
       "2           -0.002113    0.005805    0.003497   -0.005009   -0.001588   \n",
       "3            0.002778    0.003507    0.000095    0.007983    0.002381   \n",
       "4            0.000335    0.005992    0.001056   -0.000369    0.000373   \n",
       "\n",
       "productid     ...        B00L5YZCCG  B00L8I6SFY  B00L8QCVL6  B00LA6T0LS  \\\n",
       "0             ...      6.108890e-04    0.044224    0.002919    0.060347   \n",
       "1             ...      2.024793e-04    0.029213    0.000010    0.000244   \n",
       "2             ...     -3.240446e-04    0.009180   -0.002459   -0.016922   \n",
       "3             ...      6.031462e-04   -0.003369    0.003433   -0.003428   \n",
       "4             ...      3.745108e-08   -0.001140   -0.000323   -0.025215   \n",
       "\n",
       "productid  B00LBZ1Z7K  B00LED02VY  B00LGN7Y3G  B00LGQ6HL8  B00LI4ZZO8  \\\n",
       "0           -0.002137    0.006751    0.001525    0.130951    0.059243   \n",
       "1           -0.003111   -0.000621    0.004409   -0.039241   -0.006889   \n",
       "2            0.019936   -0.002483   -0.000155   -0.002889   -0.011522   \n",
       "3           -0.000750    0.000119    0.002612   -0.015107   -0.006740   \n",
       "4            0.004700   -0.002170    0.001263   -0.048555   -0.016301   \n",
       "\n",
       "productid  B00LKG1MC8  \n",
       "0            0.015014  \n",
       "1            0.003696  \n",
       "2           -0.004525  \n",
       "3            0.003276  \n",
       "4           -0.003377  \n",
       "\n",
       "[5 rows x 48190 columns]"
      ]
     },
     "execution_count": 47,
     "metadata": {},
     "output_type": "execute_result"
    }
   ],
   "source": [
    "# Predicted ratings \n",
    "preds_df.head()"
   ]
  },
  {
   "cell_type": "code",
   "execution_count": 48,
   "metadata": {},
   "outputs": [
    {
     "data": {
      "text/plain": [
       "productid\n",
       "0594451647    0.001542\n",
       "0594481813    0.002341\n",
       "0970407998    0.002597\n",
       "0972683275    0.011807\n",
       "1400501466    0.004848\n",
       "dtype: float64"
      ]
     },
     "execution_count": 48,
     "metadata": {},
     "output_type": "execute_result"
    }
   ],
   "source": [
    "# Average Predicted rating for each item\n",
    "preds_df.mean().head()"
   ]
  },
  {
   "cell_type": "code",
   "execution_count": 49,
   "metadata": {},
   "outputs": [
    {
     "name": "stdout",
     "output_type": "stream",
     "text": [
      "(48190, 2)\n"
     ]
    },
    {
     "data": {
      "text/html": [
       "<div>\n",
       "<style scoped>\n",
       "    .dataframe tbody tr th:only-of-type {\n",
       "        vertical-align: middle;\n",
       "    }\n",
       "\n",
       "    .dataframe tbody tr th {\n",
       "        vertical-align: top;\n",
       "    }\n",
       "\n",
       "    .dataframe thead th {\n",
       "        text-align: right;\n",
       "    }\n",
       "</style>\n",
       "<table border=\"1\" class=\"dataframe\">\n",
       "  <thead>\n",
       "    <tr style=\"text-align: right;\">\n",
       "      <th></th>\n",
       "      <th>Avg_actual_ratings</th>\n",
       "      <th>Avg_predicted_ratings</th>\n",
       "      <th>item_index</th>\n",
       "    </tr>\n",
       "    <tr>\n",
       "      <th>productid</th>\n",
       "      <th></th>\n",
       "      <th></th>\n",
       "      <th></th>\n",
       "    </tr>\n",
       "  </thead>\n",
       "  <tbody>\n",
       "    <tr>\n",
       "      <th>0594451647</th>\n",
       "      <td>0.003247</td>\n",
       "      <td>0.001542</td>\n",
       "      <td>0</td>\n",
       "    </tr>\n",
       "    <tr>\n",
       "      <th>0594481813</th>\n",
       "      <td>0.001948</td>\n",
       "      <td>0.002341</td>\n",
       "      <td>1</td>\n",
       "    </tr>\n",
       "    <tr>\n",
       "      <th>0970407998</th>\n",
       "      <td>0.003247</td>\n",
       "      <td>0.002597</td>\n",
       "      <td>2</td>\n",
       "    </tr>\n",
       "    <tr>\n",
       "      <th>0972683275</th>\n",
       "      <td>0.012338</td>\n",
       "      <td>0.011807</td>\n",
       "      <td>3</td>\n",
       "    </tr>\n",
       "    <tr>\n",
       "      <th>1400501466</th>\n",
       "      <td>0.012987</td>\n",
       "      <td>0.004848</td>\n",
       "      <td>4</td>\n",
       "    </tr>\n",
       "  </tbody>\n",
       "</table>\n",
       "</div>"
      ],
      "text/plain": [
       "            Avg_actual_ratings  Avg_predicted_ratings  item_index\n",
       "productid                                                        \n",
       "0594451647            0.003247               0.001542           0\n",
       "0594481813            0.001948               0.002341           1\n",
       "0970407998            0.003247               0.002597           2\n",
       "0972683275            0.012338               0.011807           3\n",
       "1400501466            0.012987               0.004848           4"
      ]
     },
     "execution_count": 49,
     "metadata": {},
     "output_type": "execute_result"
    }
   ],
   "source": [
    "rmse_df = pd.concat([df_matrix.mean(), preds_df.mean()], axis=1)\n",
    "rmse_df.columns = ['Avg_actual_ratings', 'Avg_predicted_ratings']\n",
    "print(rmse_df.shape)\n",
    "rmse_df['item_index'] = np.arange(0, rmse_df.shape[0], 1)\n",
    "rmse_df.head()"
   ]
  },
  {
   "cell_type": "code",
   "execution_count": 50,
   "metadata": {},
   "outputs": [
    {
     "name": "stdout",
     "output_type": "stream",
     "text": [
      "\n",
      "RMSE SVD Model = 0.0033 \n",
      "\n"
     ]
    }
   ],
   "source": [
    "RMSE = round((((rmse_df.Avg_actual_ratings - rmse_df.Avg_predicted_ratings) ** 2).mean() ** 0.5), 5)\n",
    "print('\\nRMSE SVD Model = {} \\n'.format(RMSE))"
   ]
  },
  {
   "cell_type": "markdown",
   "metadata": {},
   "source": [
    "Get top - K ( K = 5) recommendations. Since our goal is to recommend new products to each user based on his/her habits, we will \n",
    "recommend 5 new products."
   ]
  },
  {
   "cell_type": "code",
   "execution_count": 51,
   "metadata": {},
   "outputs": [
    {
     "name": "stdout",
     "output_type": "stream",
     "text": [
      "\n",
      "Below are the recommended products for user(user_id = 999):\n",
      "\n",
      "                      user_ratings  user_predictions\n",
      "Recommended Products                                \n",
      "B0088CJT4U                     0.0          1.069630\n",
      "B000N99BBC                     0.0          0.876860\n",
      "B00829TIEK                     0.0          0.748533\n",
      "B008DWCRQW                     0.0          0.704374\n",
      "B004CLYEFK                     0.0          0.667480\n"
     ]
    }
   ],
   "source": [
    "# Example:\n",
    "userID = 999\n",
    "num_recommendations = 5\n",
    "recommend_items(userID, pivot_df, preds_df, num_recommendations)"
   ]
  },
  {
   "cell_type": "markdown",
   "metadata": {},
   "source": [
    "Model-based Collaborative Filtering is a personalised recommender system, the recommendations are based on the past behavior of \n",
    "the user and it is not dependent on any additional information."
   ]
  },
  {
   "cell_type": "markdown",
   "metadata": {},
   "source": [
    "## Using Surprise package"
   ]
  },
  {
   "cell_type": "code",
   "execution_count": 52,
   "metadata": {},
   "outputs": [],
   "source": [
    "# To avoid out of memory system error, using a smaller dataset with Surprise package\n",
    "df_sm = df[df['userid'].isin(user_count[user_count >= 250].index)]"
   ]
  },
  {
   "cell_type": "code",
   "execution_count": 53,
   "metadata": {},
   "outputs": [
    {
     "name": "stdout",
     "output_type": "stream",
     "text": [
      "Number of users who have rated 50 or more items = 7484\n",
      "Number of unique USERS in final data =  23\n",
      "Number of unique ITEMS in final data =  5841\n"
     ]
    }
   ],
   "source": [
    "print('Number of users who have rated 50 or more items =', len(df_sm))\n",
    "print('Number of unique USERS in final data = ', df_sm['userid'].nunique())\n",
    "print('Number of unique ITEMS in final data = ', df_sm['productid'].nunique())"
   ]
  },
  {
   "cell_type": "code",
   "execution_count": 54,
   "metadata": {},
   "outputs": [],
   "source": [
    "# Transform data to surprise format.\n",
    "# Here using the subset data where we have captured users only gave ratings for 50 or more products.\n",
    "from surprise import Dataset, Reader\n",
    "\n",
    "reader = Reader(rating_scale=(1,5))\n",
    "data = Dataset.load_from_df(df_sm[['userid', 'productid', 'ratings']], reader)"
   ]
  },
  {
   "cell_type": "code",
   "execution_count": 55,
   "metadata": {},
   "outputs": [
    {
     "data": {
      "text/plain": [
       "<surprise.dataset.DatasetAutoFolds at 0x2500046d7b8>"
      ]
     },
     "execution_count": 55,
     "metadata": {},
     "output_type": "execute_result"
    }
   ],
   "source": [
    "data"
   ]
  },
  {
   "cell_type": "code",
   "execution_count": 56,
   "metadata": {},
   "outputs": [],
   "source": [
    "# Split data to train and test\n",
    "from surprise.model_selection import train_test_split\n",
    "trainset, testset = train_test_split(data, test_size=.30,random_state=9)"
   ]
  },
  {
   "cell_type": "code",
   "execution_count": 57,
   "metadata": {},
   "outputs": [
    {
     "data": {
      "text/plain": [
       "2246"
      ]
     },
     "execution_count": 57,
     "metadata": {},
     "output_type": "execute_result"
    }
   ],
   "source": [
    "len(testset)"
   ]
  },
  {
   "cell_type": "code",
   "execution_count": 59,
   "metadata": {},
   "outputs": [
    {
     "ename": "TypeError",
     "evalue": "object of type 'Trainset' has no len()",
     "output_type": "error",
     "traceback": [
      "\u001b[1;31m---------------------------------------------------------------------------\u001b[0m",
      "\u001b[1;31mTypeError\u001b[0m                                 Traceback (most recent call last)",
      "\u001b[1;32m<ipython-input-59-fbb38ef08a06>\u001b[0m in \u001b[0;36m<module>\u001b[1;34m()\u001b[0m\n\u001b[0;32m      1\u001b[0m \u001b[1;31m# don't know why it is not working!!!\u001b[0m\u001b[1;33m\u001b[0m\u001b[1;33m\u001b[0m\u001b[1;33m\u001b[0m\u001b[0m\n\u001b[1;32m----> 2\u001b[1;33m \u001b[0mlen\u001b[0m\u001b[1;33m(\u001b[0m\u001b[0mtrainset\u001b[0m\u001b[1;33m)\u001b[0m\u001b[1;33m\u001b[0m\u001b[1;33m\u001b[0m\u001b[0m\n\u001b[0m",
      "\u001b[1;31mTypeError\u001b[0m: object of type 'Trainset' has no len()"
     ]
    }
   ],
   "source": [
    "# don't know why it is not working!!!\n",
    "len(trainset)"
   ]
  },
  {
   "cell_type": "code",
   "execution_count": 60,
   "metadata": {},
   "outputs": [
    {
     "data": {
      "text/plain": [
       "collections.defaultdict"
      ]
     },
     "execution_count": 60,
     "metadata": {},
     "output_type": "execute_result"
    }
   ],
   "source": [
    "# user item rating data can be obtained as follows\n",
    "user_records = trainset.ur\n",
    "type(user_records)"
   ]
  },
  {
   "cell_type": "code",
   "execution_count": 61,
   "metadata": {},
   "outputs": [
    {
     "name": "stdout",
     "output_type": "stream",
     "text": [
      "0\n",
      "1\n",
      "2\n",
      "3\n",
      "4\n",
      "5\n"
     ]
    }
   ],
   "source": [
    "# surprise package converts raw id into inner id, which are nothing but numeric indexes\n",
    "for keys in user_records.keys():\n",
    "    print(keys)\n",
    "    if keys == 5:\n",
    "        break"
   ]
  },
  {
   "cell_type": "code",
   "execution_count": 96,
   "metadata": {},
   "outputs": [
    {
     "data": {
      "text/plain": [
       "[(5, 5.0),\n",
       " (10, 5.0),\n",
       " (14, 4.0),\n",
       " (48, 5.0),\n",
       " (90, 4.0),\n",
       " (106, 5.0),\n",
       " (128, 5.0),\n",
       " (137, 5.0),\n",
       " (152, 5.0),\n",
       " (157, 4.0),\n",
       " (170, 5.0),\n",
       " (196, 5.0),\n",
       " (243, 3.0),\n",
       " (264, 2.0),\n",
       " (266, 5.0),\n",
       " (280, 5.0),\n",
       " (122, 3.0),\n",
       " (321, 5.0),\n",
       " (375, 3.0),\n",
       " (419, 4.0),\n",
       " (436, 4.0),\n",
       " (535, 4.0),\n",
       " (558, 5.0),\n",
       " (595, 5.0),\n",
       " (467, 5.0),\n",
       " (604, 5.0),\n",
       " (614, 5.0),\n",
       " (620, 3.0),\n",
       " (667, 5.0),\n",
       " (731, 5.0),\n",
       " (734, 5.0),\n",
       " (845, 5.0),\n",
       " (847, 5.0),\n",
       " (855, 5.0),\n",
       " (938, 5.0),\n",
       " (950, 5.0),\n",
       " (953, 5.0),\n",
       " (1028, 5.0),\n",
       " (1065, 5.0),\n",
       " (1092, 5.0),\n",
       " (1105, 5.0),\n",
       " (1151, 5.0),\n",
       " (1154, 5.0),\n",
       " (1198, 5.0),\n",
       " (1210, 5.0),\n",
       " (1217, 5.0),\n",
       " (1331, 5.0),\n",
       " (1354, 3.0),\n",
       " (1479, 5.0),\n",
       " (1494, 4.0),\n",
       " (1498, 4.0),\n",
       " (1505, 5.0),\n",
       " (1524, 5.0),\n",
       " (1558, 5.0),\n",
       " (1576, 5.0),\n",
       " (1581, 3.0),\n",
       " (1616, 5.0),\n",
       " (1629, 4.0),\n",
       " (1668, 5.0),\n",
       " (1689, 4.0),\n",
       " (1695, 5.0),\n",
       " (1352, 5.0),\n",
       " (1733, 4.0),\n",
       " (1735, 5.0),\n",
       " (462, 5.0),\n",
       " (1817, 3.0),\n",
       " (637, 5.0),\n",
       " (1844, 5.0),\n",
       " (1890, 5.0),\n",
       " (1906, 4.0),\n",
       " (1931, 5.0),\n",
       " (1980, 4.0),\n",
       " (1993, 5.0),\n",
       " (1109, 4.0),\n",
       " (1364, 4.0),\n",
       " (2078, 5.0),\n",
       " (2111, 5.0),\n",
       " (236, 4.0),\n",
       " (2128, 2.0),\n",
       " (2134, 5.0),\n",
       " (2158, 5.0),\n",
       " (2203, 5.0),\n",
       " (2208, 5.0),\n",
       " (2213, 5.0),\n",
       " (2224, 4.0),\n",
       " (536, 4.0),\n",
       " (2244, 5.0),\n",
       " (2245, 5.0),\n",
       " (2259, 5.0),\n",
       " (2285, 5.0),\n",
       " (2296, 5.0),\n",
       " (1159, 5.0),\n",
       " (316, 5.0),\n",
       " (2380, 5.0),\n",
       " (2425, 5.0),\n",
       " (2454, 4.0),\n",
       " (2459, 3.0),\n",
       " (2487, 5.0),\n",
       " (2488, 5.0),\n",
       " (2515, 4.0),\n",
       " (2517, 5.0),\n",
       " (935, 5.0),\n",
       " (1223, 4.0),\n",
       " (2549, 5.0),\n",
       " (2578, 3.0),\n",
       " (2591, 3.0),\n",
       " (2627, 4.0),\n",
       " (2635, 5.0),\n",
       " (2636, 5.0),\n",
       " (1698, 4.0),\n",
       " (2647, 4.0),\n",
       " (1887, 5.0),\n",
       " (2731, 5.0),\n",
       " (2736, 5.0),\n",
       " (2749, 5.0),\n",
       " (2754, 5.0),\n",
       " (2789, 5.0),\n",
       " (2796, 5.0),\n",
       " (2877, 5.0),\n",
       " (2898, 5.0),\n",
       " (2922, 5.0),\n",
       " (2954, 2.0),\n",
       " (2962, 3.0),\n",
       " (2964, 5.0),\n",
       " (2997, 5.0),\n",
       " (3026, 3.0),\n",
       " (1588, 5.0),\n",
       " (3045, 2.0),\n",
       " (2034, 5.0),\n",
       " (705, 4.0),\n",
       " (1252, 3.0),\n",
       " (1601, 5.0),\n",
       " (2123, 5.0),\n",
       " (3240, 5.0),\n",
       " (3248, 5.0),\n",
       " (612, 5.0),\n",
       " (3263, 4.0),\n",
       " (3264, 5.0),\n",
       " (3299, 5.0),\n",
       " (3312, 5.0),\n",
       " (3315, 1.0),\n",
       " (3317, 3.0),\n",
       " (3361, 5.0),\n",
       " (1591, 4.0),\n",
       " (1480, 5.0),\n",
       " (3386, 4.0),\n",
       " (3405, 5.0),\n",
       " (2530, 5.0),\n",
       " (3416, 5.0),\n",
       " (2200, 5.0),\n",
       " (3457, 5.0),\n",
       " (3468, 4.0),\n",
       " (3473, 3.0),\n",
       " (3482, 5.0),\n",
       " (1942, 5.0),\n",
       " (267, 4.0),\n",
       " (3541, 4.0),\n",
       " (3544, 4.0),\n",
       " (3551, 5.0),\n",
       " (3557, 5.0),\n",
       " (3587, 5.0),\n",
       " (3631, 3.0),\n",
       " (3636, 5.0),\n",
       " (3684, 4.0),\n",
       " (3692, 5.0),\n",
       " (3705, 3.0),\n",
       " (3719, 5.0),\n",
       " (1334, 5.0),\n",
       " (3772, 5.0),\n",
       " (1286, 4.0),\n",
       " (3794, 4.0),\n",
       " (3825, 5.0),\n",
       " (3840, 5.0),\n",
       " (3860, 1.0),\n",
       " (3862, 5.0),\n",
       " (3888, 5.0),\n",
       " (3900, 3.0),\n",
       " (3909, 5.0),\n",
       " (3941, 5.0),\n",
       " (3964, 5.0),\n",
       " (3969, 5.0),\n",
       " (2233, 3.0),\n",
       " (197, 5.0),\n",
       " (4003, 5.0),\n",
       " (3675, 5.0),\n",
       " (4026, 5.0),\n",
       " (1549, 5.0),\n",
       " (4049, 5.0),\n",
       " (4114, 5.0),\n",
       " (4117, 5.0),\n",
       " (2554, 5.0),\n",
       " (3338, 4.0),\n",
       " (4179, 5.0),\n",
       " (2209, 5.0),\n",
       " (4192, 5.0),\n",
       " (4200, 5.0),\n",
       " (4206, 5.0),\n",
       " (4218, 5.0),\n",
       " (4254, 5.0),\n",
       " (4315, 5.0)]"
      ]
     },
     "execution_count": 96,
     "metadata": {},
     "output_type": "execute_result"
    }
   ],
   "source": [
    "user_records[5]"
   ]
  },
  {
   "cell_type": "code",
   "execution_count": 63,
   "metadata": {},
   "outputs": [
    {
     "name": "stdout",
     "output_type": "stream",
     "text": [
      "A3EXWV8FNSSFL6\n",
      "B005NGLTZQ\n"
     ]
    }
   ],
   "source": [
    "# raw ids can be obatined as follows\n",
    "\n",
    "print(trainset.to_raw_uid(5))\n",
    "print(trainset.to_raw_iid(999))"
   ]
  },
  {
   "cell_type": "code",
   "execution_count": 64,
   "metadata": {},
   "outputs": [],
   "source": [
    "# Training the model\n",
    "from surprise import KNNWithMeans\n",
    "from surprise import accuracy"
   ]
  },
  {
   "cell_type": "code",
   "execution_count": 65,
   "metadata": {},
   "outputs": [],
   "source": [
    "# Item based model\n",
    "algo = KNNWithMeans(k=50, sim_options={'name': 'pearson', 'user_based': False})"
   ]
  },
  {
   "cell_type": "code",
   "execution_count": 66,
   "metadata": {},
   "outputs": [
    {
     "name": "stdout",
     "output_type": "stream",
     "text": [
      "Computing the pearson similarity matrix...\n",
      "Done computing similarity matrix.\n"
     ]
    },
    {
     "data": {
      "text/plain": [
       "<surprise.prediction_algorithms.knns.KNNWithMeans at 0x250034d62b0>"
      ]
     },
     "execution_count": 66,
     "metadata": {},
     "output_type": "execute_result"
    }
   ],
   "source": [
    "algo.fit(trainset)"
   ]
  },
  {
   "cell_type": "code",
   "execution_count": 67,
   "metadata": {},
   "outputs": [
    {
     "data": {
      "text/plain": [
       "[('A3LGT6UZL99IW1', 'B0097CXWUW', 4.0),\n",
       " ('A23GFTVIETX7DS', 'B0035JCI6M', 1.0),\n",
       " ('A17BUUBOU0598B', 'B009NE5YC8', 2.0),\n",
       " ('A38RMU1Y5TDP9', 'B001O8O9PO', 5.0),\n",
       " ('A1ODOGXEYECQQ8', 'B0085YTDBA', 3.0),\n",
       " ('A23GFTVIETX7DS', 'B009FPUBBE', 4.0),\n",
       " ('A3AYSYSLHU26U9', 'B008YDTRLS', 3.0),\n",
       " ('A3LGT6UZL99IW1', 'B002SH43MO', 5.0),\n",
       " ('A38RMU1Y5TDP9', 'B002LITT5Q', 4.0),\n",
       " ('A36K2N527TXXJN', 'B00CJKW4WQ', 4.0)]"
      ]
     },
     "execution_count": 67,
     "metadata": {},
     "output_type": "execute_result"
    }
   ],
   "source": [
    "testset[0:10]"
   ]
  },
  {
   "cell_type": "code",
   "execution_count": 68,
   "metadata": {},
   "outputs": [
    {
     "name": "stdout",
     "output_type": "stream",
     "text": [
      "RMSE: 0.9584\n"
     ]
    },
    {
     "data": {
      "text/plain": [
       "0.9584065893454665"
      ]
     },
     "execution_count": 68,
     "metadata": {},
     "output_type": "execute_result"
    }
   ],
   "source": [
    "# Evalute on test set\n",
    "test_pred = algo.test(testset)\n",
    "\n",
    "# compute RMSE\n",
    "accuracy.rmse(test_pred)"
   ]
  },
  {
   "cell_type": "code",
   "execution_count": 69,
   "metadata": {},
   "outputs": [
    {
     "data": {
      "text/plain": [
       "Prediction(uid='A36K2N527TXXJN', iid='B00CJKW4WQ', r_ui=4.0, est=4.318633066055747, details={'was_impossible': True, 'reason': 'User and/or item is unkown.'})"
      ]
     },
     "execution_count": 69,
     "metadata": {},
     "output_type": "execute_result"
    }
   ],
   "source": [
    "# View a particular prediction\n",
    "test_pred[9]"
   ]
  },
  {
   "cell_type": "code",
   "execution_count": 70,
   "metadata": {},
   "outputs": [
    {
     "data": {
      "text/plain": [
       "4.318633066055747"
      ]
     },
     "execution_count": 70,
     "metadata": {},
     "output_type": "execute_result"
    }
   ],
   "source": [
    "# To access a particular value, say estimate simply mention test_pred[9].est\n",
    "test_pred[9].est"
   ]
  },
  {
   "cell_type": "code",
   "execution_count": 71,
   "metadata": {},
   "outputs": [],
   "source": [
    "# convert results to dataframe\n",
    "test_pred_df = pd.DataFrame(test_pred)\n",
    "test_pred_df[\"was_impossible\"] = [x[\"was_impossible\"] for x in test_pred_df[\"details\"]]"
   ]
  },
  {
   "cell_type": "code",
   "execution_count": 72,
   "metadata": {},
   "outputs": [
    {
     "data": {
      "text/html": [
       "<div>\n",
       "<style scoped>\n",
       "    .dataframe tbody tr th:only-of-type {\n",
       "        vertical-align: middle;\n",
       "    }\n",
       "\n",
       "    .dataframe tbody tr th {\n",
       "        vertical-align: top;\n",
       "    }\n",
       "\n",
       "    .dataframe thead th {\n",
       "        text-align: right;\n",
       "    }\n",
       "</style>\n",
       "<table border=\"1\" class=\"dataframe\">\n",
       "  <thead>\n",
       "    <tr style=\"text-align: right;\">\n",
       "      <th></th>\n",
       "      <th>uid</th>\n",
       "      <th>iid</th>\n",
       "      <th>r_ui</th>\n",
       "      <th>est</th>\n",
       "      <th>details</th>\n",
       "      <th>was_impossible</th>\n",
       "    </tr>\n",
       "  </thead>\n",
       "  <tbody>\n",
       "    <tr>\n",
       "      <th>1</th>\n",
       "      <td>A23GFTVIETX7DS</td>\n",
       "      <td>B0035JCI6M</td>\n",
       "      <td>1.0</td>\n",
       "      <td>4.318633</td>\n",
       "      <td>{'was_impossible': True, 'reason': 'User and/o...</td>\n",
       "      <td>True</td>\n",
       "    </tr>\n",
       "    <tr>\n",
       "      <th>2</th>\n",
       "      <td>A17BUUBOU0598B</td>\n",
       "      <td>B009NE5YC8</td>\n",
       "      <td>2.0</td>\n",
       "      <td>4.318633</td>\n",
       "      <td>{'was_impossible': True, 'reason': 'User and/o...</td>\n",
       "      <td>True</td>\n",
       "    </tr>\n",
       "    <tr>\n",
       "      <th>3</th>\n",
       "      <td>A38RMU1Y5TDP9</td>\n",
       "      <td>B001O8O9PO</td>\n",
       "      <td>5.0</td>\n",
       "      <td>4.318633</td>\n",
       "      <td>{'was_impossible': True, 'reason': 'User and/o...</td>\n",
       "      <td>True</td>\n",
       "    </tr>\n",
       "    <tr>\n",
       "      <th>4</th>\n",
       "      <td>A1ODOGXEYECQQ8</td>\n",
       "      <td>B0085YTDBA</td>\n",
       "      <td>3.0</td>\n",
       "      <td>4.318633</td>\n",
       "      <td>{'was_impossible': True, 'reason': 'User and/o...</td>\n",
       "      <td>True</td>\n",
       "    </tr>\n",
       "    <tr>\n",
       "      <th>5</th>\n",
       "      <td>A23GFTVIETX7DS</td>\n",
       "      <td>B009FPUBBE</td>\n",
       "      <td>4.0</td>\n",
       "      <td>4.318633</td>\n",
       "      <td>{'was_impossible': True, 'reason': 'User and/o...</td>\n",
       "      <td>True</td>\n",
       "    </tr>\n",
       "  </tbody>\n",
       "</table>\n",
       "</div>"
      ],
      "text/plain": [
       "              uid         iid  r_ui       est  \\\n",
       "1  A23GFTVIETX7DS  B0035JCI6M   1.0  4.318633   \n",
       "2  A17BUUBOU0598B  B009NE5YC8   2.0  4.318633   \n",
       "3   A38RMU1Y5TDP9  B001O8O9PO   5.0  4.318633   \n",
       "4  A1ODOGXEYECQQ8  B0085YTDBA   3.0  4.318633   \n",
       "5  A23GFTVIETX7DS  B009FPUBBE   4.0  4.318633   \n",
       "\n",
       "                                             details  was_impossible  \n",
       "1  {'was_impossible': True, 'reason': 'User and/o...            True  \n",
       "2  {'was_impossible': True, 'reason': 'User and/o...            True  \n",
       "3  {'was_impossible': True, 'reason': 'User and/o...            True  \n",
       "4  {'was_impossible': True, 'reason': 'User and/o...            True  \n",
       "5  {'was_impossible': True, 'reason': 'User and/o...            True  "
      ]
     },
     "execution_count": 72,
     "metadata": {},
     "output_type": "execute_result"
    }
   ],
   "source": [
    "test_pred_df.loc[test_pred_df.was_impossible].head(5)"
   ]
  },
  {
   "cell_type": "markdown",
   "metadata": {},
   "source": [
    "### Using SVD model with Surprise package"
   ]
  },
  {
   "cell_type": "code",
   "execution_count": 73,
   "metadata": {},
   "outputs": [],
   "source": [
    "from surprise import SVD"
   ]
  },
  {
   "cell_type": "code",
   "execution_count": 74,
   "metadata": {},
   "outputs": [
    {
     "data": {
      "text/plain": [
       "<surprise.prediction_algorithms.matrix_factorization.SVD at 0x250034f0358>"
      ]
     },
     "execution_count": 74,
     "metadata": {},
     "output_type": "execute_result"
    }
   ],
   "source": [
    "svd_model = SVD(n_factors=50,biased=False)\n",
    "svd_model.fit(trainset)"
   ]
  },
  {
   "cell_type": "code",
   "execution_count": 75,
   "metadata": {},
   "outputs": [],
   "source": [
    "test_pred = svd_model.test(testset)"
   ]
  },
  {
   "cell_type": "code",
   "execution_count": 76,
   "metadata": {},
   "outputs": [
    {
     "name": "stdout",
     "output_type": "stream",
     "text": [
      "RMSE: 1.8619\n"
     ]
    },
    {
     "data": {
      "text/plain": [
       "1.8618846103389715"
      ]
     },
     "execution_count": 76,
     "metadata": {},
     "output_type": "execute_result"
    }
   ],
   "source": [
    "# compute RMSE\n",
    "accuracy.rmse(test_pred)"
   ]
  },
  {
   "cell_type": "markdown",
   "metadata": {},
   "source": [
    "#### Recreating the SVD predictions using Matrix multiplcation of User and Item factors"
   ]
  },
  {
   "cell_type": "code",
   "execution_count": 77,
   "metadata": {},
   "outputs": [
    {
     "data": {
      "text/plain": [
       "(23, 50)"
      ]
     },
     "execution_count": 77,
     "metadata": {},
     "output_type": "execute_result"
    },
    {
     "data": {
      "text/plain": [
       "(4331, 50)"
      ]
     },
     "execution_count": 77,
     "metadata": {},
     "output_type": "execute_result"
    }
   ],
   "source": [
    "user_factors = svd_model.pu\n",
    "user_factors.shape\n",
    "item_factors = svd_model.qi\n",
    "item_factors.shape"
   ]
  },
  {
   "cell_type": "code",
   "execution_count": 78,
   "metadata": {},
   "outputs": [],
   "source": [
    "pred = np.dot(user_factors,np.transpose(item_factors))"
   ]
  },
  {
   "cell_type": "code",
   "execution_count": 79,
   "metadata": {},
   "outputs": [
    {
     "data": {
      "text/plain": [
       "array([ 0.09232077, -0.37900983, -0.21195178,  1.29013846, -0.27338543])"
      ]
     },
     "execution_count": 79,
     "metadata": {},
     "output_type": "execute_result"
    }
   ],
   "source": [
    "pred[21,0:5]"
   ]
  },
  {
   "cell_type": "code",
   "execution_count": 80,
   "metadata": {},
   "outputs": [
    {
     "data": {
      "text/plain": [
       "Prediction(uid='A3PD8JD9L4WEII', iid='B001DJ64D4', r_ui=None, est=1, details={'was_impossible': False})"
      ]
     },
     "execution_count": 80,
     "metadata": {},
     "output_type": "execute_result"
    }
   ],
   "source": [
    "svd_model.predict(uid = trainset.to_raw_uid(21), iid = trainset.to_raw_iid(0))"
   ]
  },
  {
   "cell_type": "markdown",
   "metadata": {},
   "source": [
    "<b> Parameter tuning of SVD Recommendation system </b>"
   ]
  },
  {
   "cell_type": "code",
   "execution_count": 81,
   "metadata": {},
   "outputs": [],
   "source": [
    "from surprise.model_selection import GridSearchCV\n",
    "param_grid = {'n_factors' : [5,10,15], \"reg_all\":[0.01,0.02]}\n",
    "gs = GridSearchCV(SVD, param_grid, measures=['rmse'], cv=3,refit = True)"
   ]
  },
  {
   "cell_type": "code",
   "execution_count": 82,
   "metadata": {},
   "outputs": [],
   "source": [
    "gs.fit(data)"
   ]
  },
  {
   "cell_type": "code",
   "execution_count": 83,
   "metadata": {},
   "outputs": [
    {
     "data": {
      "text/plain": [
       "[{'n_factors': 5, 'reg_all': 0.01},\n",
       " {'n_factors': 5, 'reg_all': 0.02},\n",
       " {'n_factors': 10, 'reg_all': 0.01},\n",
       " {'n_factors': 10, 'reg_all': 0.02},\n",
       " {'n_factors': 15, 'reg_all': 0.01},\n",
       " {'n_factors': 15, 'reg_all': 0.02}]"
      ]
     },
     "execution_count": 83,
     "metadata": {},
     "output_type": "execute_result"
    }
   ],
   "source": [
    "# get all parameter combinations\n",
    "gs.param_combinations"
   ]
  },
  {
   "cell_type": "code",
   "execution_count": 84,
   "metadata": {},
   "outputs": [
    {
     "data": {
      "text/plain": [
       "{'rmse': {'n_factors': 10, 'reg_all': 0.02}}"
      ]
     },
     "execution_count": 84,
     "metadata": {},
     "output_type": "execute_result"
    }
   ],
   "source": [
    "# get best parameters\n",
    "gs.best_params"
   ]
  },
  {
   "cell_type": "code",
   "execution_count": 86,
   "metadata": {},
   "outputs": [],
   "source": [
    "# Use the \"best model\" for prediction\n",
    "# gs.test(testset)"
   ]
  },
  {
   "cell_type": "code",
   "execution_count": 89,
   "metadata": {},
   "outputs": [
    {
     "data": {
      "text/plain": [
       "<surprise.prediction_algorithms.matrix_factorization.SVD at 0x250034d6978>"
      ]
     },
     "execution_count": 89,
     "metadata": {},
     "output_type": "execute_result"
    }
   ],
   "source": [
    "svd_model_final = SVD(n_factors=10, biased=False)\n",
    "svd_model_final.fit(trainset)"
   ]
  },
  {
   "cell_type": "code",
   "execution_count": 91,
   "metadata": {},
   "outputs": [],
   "source": [
    "test_pred_final = svd_model_final.test(testset)"
   ]
  },
  {
   "cell_type": "code",
   "execution_count": 92,
   "metadata": {},
   "outputs": [
    {
     "name": "stdout",
     "output_type": "stream",
     "text": [
      "RMSE: 1.7989\n"
     ]
    },
    {
     "data": {
      "text/plain": [
       "1.7988858974763393"
      ]
     },
     "execution_count": 92,
     "metadata": {},
     "output_type": "execute_result"
    }
   ],
   "source": [
    "# compute RMSE\n",
    "accuracy.rmse(test_pred_final)\n",
    "\n",
    "# Result: RMSE value improved then the SVD model we used earlier with n_factors=50"
   ]
  },
  {
   "cell_type": "markdown",
   "metadata": {},
   "source": [
    "## Conclusion\n",
    "\n",
    "- Explored data after importing.\n",
    "- Took subset of data with UserID who has given 50 or more ratings\n",
    "- Built a pivot matrix and checked the density, which came around 0.17%\n",
    "- Split data into train and test set\n",
    "- Created a new DF by aggregating the UserID by ProductID and rank them\n",
    "- Created a function 'recommend', which takes input as UserID and returns top 5 recommended products based on popularity recommender\n",
    "- For IBCF, used SVD model as data is highly sparse with density around 0.17%\n",
    "- Created a function 'recommend_items' which takes UserID and number of recommendations as input\n",
    "- It also takes matrix data and predicted data as Input, which returns top 5 recommended products for the User and predicted ratings\n",
    "- Evaluated the RMSE of SVD model, which comes around 0.0033. It tells that model is doing fairly well with less error. But data is sparse and for many products ratings are not available\n",
    "- The above conclusion tells, Collaborative filtering model is a data hungry model. The evaluation would be more proper once ratings are there for most of products.\n",
    "\n",
    "-----\n",
    "     \n",
    "- Then used Surprise package to construct an SVD model.\n",
    "- Used smaller dataset due to system memory error.\n",
    "- Transformed data to surprise format using reader and dataset methods. Here Surprise package converts all raw ids into inner ids.\n",
    "- Split the dataset into train and test set.\n",
    "- Used KNNWithMeans and SVD models from surprise package and checked the accuracy. KNNWithMeans looks to perform better for this dataset.\n",
    "- Tuned the parameters for SVD model using grid search and using best hyper parameters the SVD model performed slightly better.\n",
    "- Point to note, I have tried Surprise package for practice purpose. Few concepts like details={'was_impossible': False} is not clear to me. I have been exploring it further.\n",
    "\n",
    "-----\n",
    "\n",
    "- Overall it looks like IBCF with SVD model performed well with this dataset.\n",
    "\n"
   ]
  }
 ],
 "metadata": {
  "kernelspec": {
   "display_name": "Python 3",
   "language": "python",
   "name": "python3"
  },
  "language_info": {
   "codemirror_mode": {
    "name": "ipython",
    "version": 3
   },
   "file_extension": ".py",
   "mimetype": "text/x-python",
   "name": "python",
   "nbconvert_exporter": "python",
   "pygments_lexer": "ipython3",
   "version": "3.7.5"
  }
 },
 "nbformat": 4,
 "nbformat_minor": 2
}
